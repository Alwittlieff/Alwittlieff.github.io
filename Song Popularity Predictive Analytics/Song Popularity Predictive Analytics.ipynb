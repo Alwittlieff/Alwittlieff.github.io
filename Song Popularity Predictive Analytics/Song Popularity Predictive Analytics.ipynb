{
 "cells": [
  {
   "cell_type": "markdown",
   "id": "4b72fa93",
   "metadata": {},
   "source": [
    "# Song Popularity Predictive Analytics\n",
    "# Wittlieff, Alexa"
   ]
  },
  {
   "cell_type": "markdown",
   "id": "188d7014",
   "metadata": {},
   "source": [
    "************************************************************************************************************"
   ]
  },
  {
   "cell_type": "markdown",
   "id": "c14a660c",
   "metadata": {},
   "source": [
    "#### Load Dataset"
   ]
  },
  {
   "cell_type": "code",
   "execution_count": 1,
   "id": "f722cf51",
   "metadata": {},
   "outputs": [],
   "source": [
    "# Load libraries\n",
    "import pandas as pd\n",
    "import numpy as np\n",
    "import matplotlib.pyplot as plt\n",
    "import seaborn as sb"
   ]
  },
  {
   "cell_type": "code",
   "execution_count": 2,
   "id": "dae9738a",
   "metadata": {},
   "outputs": [],
   "source": [
    "# Import Spotify dataset\n",
    "spotify_df = pd.read_csv(r'C:\\Users\\Alexa\\Documents\\GitHub\\DSC 630 Predictive Analytics\\songs.csv')"
   ]
  },
  {
   "cell_type": "code",
   "execution_count": 3,
   "id": "fc5d2759",
   "metadata": {},
   "outputs": [
    {
     "data": {
      "text/html": [
       "<div>\n",
       "<style scoped>\n",
       "    .dataframe tbody tr th:only-of-type {\n",
       "        vertical-align: middle;\n",
       "    }\n",
       "\n",
       "    .dataframe tbody tr th {\n",
       "        vertical-align: top;\n",
       "    }\n",
       "\n",
       "    .dataframe thead th {\n",
       "        text-align: right;\n",
       "    }\n",
       "</style>\n",
       "<table border=\"1\" class=\"dataframe\">\n",
       "  <thead>\n",
       "    <tr style=\"text-align: right;\">\n",
       "      <th></th>\n",
       "      <th>artist</th>\n",
       "      <th>song</th>\n",
       "      <th>duration_ms</th>\n",
       "      <th>explicit</th>\n",
       "      <th>year</th>\n",
       "      <th>popularity</th>\n",
       "      <th>danceability</th>\n",
       "      <th>energy</th>\n",
       "      <th>key</th>\n",
       "      <th>loudness</th>\n",
       "      <th>mode</th>\n",
       "      <th>speechiness</th>\n",
       "      <th>acousticness</th>\n",
       "      <th>instrumentalness</th>\n",
       "      <th>liveness</th>\n",
       "      <th>valence</th>\n",
       "      <th>tempo</th>\n",
       "      <th>genre</th>\n",
       "    </tr>\n",
       "  </thead>\n",
       "  <tbody>\n",
       "    <tr>\n",
       "      <th>0</th>\n",
       "      <td>Britney Spears</td>\n",
       "      <td>Oops!...I Did It Again</td>\n",
       "      <td>211160</td>\n",
       "      <td>False</td>\n",
       "      <td>2000</td>\n",
       "      <td>77</td>\n",
       "      <td>0.751</td>\n",
       "      <td>0.834</td>\n",
       "      <td>1</td>\n",
       "      <td>-5.444</td>\n",
       "      <td>0</td>\n",
       "      <td>0.0437</td>\n",
       "      <td>0.3000</td>\n",
       "      <td>0.000018</td>\n",
       "      <td>0.3550</td>\n",
       "      <td>0.894</td>\n",
       "      <td>95.053</td>\n",
       "      <td>pop</td>\n",
       "    </tr>\n",
       "    <tr>\n",
       "      <th>1</th>\n",
       "      <td>blink-182</td>\n",
       "      <td>All The Small Things</td>\n",
       "      <td>167066</td>\n",
       "      <td>False</td>\n",
       "      <td>1999</td>\n",
       "      <td>79</td>\n",
       "      <td>0.434</td>\n",
       "      <td>0.897</td>\n",
       "      <td>0</td>\n",
       "      <td>-4.918</td>\n",
       "      <td>1</td>\n",
       "      <td>0.0488</td>\n",
       "      <td>0.0103</td>\n",
       "      <td>0.000000</td>\n",
       "      <td>0.6120</td>\n",
       "      <td>0.684</td>\n",
       "      <td>148.726</td>\n",
       "      <td>rock, pop</td>\n",
       "    </tr>\n",
       "    <tr>\n",
       "      <th>2</th>\n",
       "      <td>Faith Hill</td>\n",
       "      <td>Breathe</td>\n",
       "      <td>250546</td>\n",
       "      <td>False</td>\n",
       "      <td>1999</td>\n",
       "      <td>66</td>\n",
       "      <td>0.529</td>\n",
       "      <td>0.496</td>\n",
       "      <td>7</td>\n",
       "      <td>-9.007</td>\n",
       "      <td>1</td>\n",
       "      <td>0.0290</td>\n",
       "      <td>0.1730</td>\n",
       "      <td>0.000000</td>\n",
       "      <td>0.2510</td>\n",
       "      <td>0.278</td>\n",
       "      <td>136.859</td>\n",
       "      <td>pop, country</td>\n",
       "    </tr>\n",
       "    <tr>\n",
       "      <th>3</th>\n",
       "      <td>Bon Jovi</td>\n",
       "      <td>It's My Life</td>\n",
       "      <td>224493</td>\n",
       "      <td>False</td>\n",
       "      <td>2000</td>\n",
       "      <td>78</td>\n",
       "      <td>0.551</td>\n",
       "      <td>0.913</td>\n",
       "      <td>0</td>\n",
       "      <td>-4.063</td>\n",
       "      <td>0</td>\n",
       "      <td>0.0466</td>\n",
       "      <td>0.0263</td>\n",
       "      <td>0.000013</td>\n",
       "      <td>0.3470</td>\n",
       "      <td>0.544</td>\n",
       "      <td>119.992</td>\n",
       "      <td>rock, metal</td>\n",
       "    </tr>\n",
       "    <tr>\n",
       "      <th>4</th>\n",
       "      <td>*NSYNC</td>\n",
       "      <td>Bye Bye Bye</td>\n",
       "      <td>200560</td>\n",
       "      <td>False</td>\n",
       "      <td>2000</td>\n",
       "      <td>65</td>\n",
       "      <td>0.614</td>\n",
       "      <td>0.928</td>\n",
       "      <td>8</td>\n",
       "      <td>-4.806</td>\n",
       "      <td>0</td>\n",
       "      <td>0.0516</td>\n",
       "      <td>0.0408</td>\n",
       "      <td>0.001040</td>\n",
       "      <td>0.0845</td>\n",
       "      <td>0.879</td>\n",
       "      <td>172.656</td>\n",
       "      <td>pop</td>\n",
       "    </tr>\n",
       "  </tbody>\n",
       "</table>\n",
       "</div>"
      ],
      "text/plain": [
       "           artist                    song  duration_ms  explicit  year  \\\n",
       "0  Britney Spears  Oops!...I Did It Again       211160     False  2000   \n",
       "1       blink-182    All The Small Things       167066     False  1999   \n",
       "2      Faith Hill                 Breathe       250546     False  1999   \n",
       "3        Bon Jovi            It's My Life       224493     False  2000   \n",
       "4          *NSYNC             Bye Bye Bye       200560     False  2000   \n",
       "\n",
       "   popularity  danceability  energy  key  loudness  mode  speechiness  \\\n",
       "0          77         0.751   0.834    1    -5.444     0       0.0437   \n",
       "1          79         0.434   0.897    0    -4.918     1       0.0488   \n",
       "2          66         0.529   0.496    7    -9.007     1       0.0290   \n",
       "3          78         0.551   0.913    0    -4.063     0       0.0466   \n",
       "4          65         0.614   0.928    8    -4.806     0       0.0516   \n",
       "\n",
       "   acousticness  instrumentalness  liveness  valence    tempo         genre  \n",
       "0        0.3000          0.000018    0.3550    0.894   95.053           pop  \n",
       "1        0.0103          0.000000    0.6120    0.684  148.726     rock, pop  \n",
       "2        0.1730          0.000000    0.2510    0.278  136.859  pop, country  \n",
       "3        0.0263          0.000013    0.3470    0.544  119.992   rock, metal  \n",
       "4        0.0408          0.001040    0.0845    0.879  172.656           pop  "
      ]
     },
     "execution_count": 3,
     "metadata": {},
     "output_type": "execute_result"
    }
   ],
   "source": [
    "# Verify import success\n",
    "spotify_df.head()"
   ]
  },
  {
   "cell_type": "markdown",
   "id": "9bc79960",
   "metadata": {},
   "source": [
    "#### Validation of Current Dataset State"
   ]
  },
  {
   "cell_type": "code",
   "execution_count": 4,
   "id": "e8237e8a",
   "metadata": {},
   "outputs": [
    {
     "data": {
      "text/plain": [
       "(2000, 18)"
      ]
     },
     "execution_count": 4,
     "metadata": {},
     "output_type": "execute_result"
    }
   ],
   "source": [
    "# View data frame dimensions\n",
    "spotify_df.shape"
   ]
  },
  {
   "cell_type": "code",
   "execution_count": 5,
   "id": "fa84a487",
   "metadata": {},
   "outputs": [
    {
     "data": {
      "text/plain": [
       "artist               object\n",
       "song                 object\n",
       "duration_ms           int64\n",
       "explicit               bool\n",
       "year                  int64\n",
       "popularity            int64\n",
       "danceability        float64\n",
       "energy              float64\n",
       "key                   int64\n",
       "loudness            float64\n",
       "mode                  int64\n",
       "speechiness         float64\n",
       "acousticness        float64\n",
       "instrumentalness    float64\n",
       "liveness            float64\n",
       "valence             float64\n",
       "tempo               float64\n",
       "genre                object\n",
       "dtype: object"
      ]
     },
     "execution_count": 5,
     "metadata": {},
     "output_type": "execute_result"
    }
   ],
   "source": [
    "# View data types\n",
    "spotify_df.dtypes"
   ]
  },
  {
   "cell_type": "code",
   "execution_count": 6,
   "id": "dc630d9a",
   "metadata": {},
   "outputs": [
    {
     "data": {
      "text/plain": [
       "artist              0\n",
       "song                0\n",
       "duration_ms         0\n",
       "explicit            0\n",
       "year                0\n",
       "popularity          0\n",
       "danceability        0\n",
       "energy              0\n",
       "key                 0\n",
       "loudness            0\n",
       "mode                0\n",
       "speechiness         0\n",
       "acousticness        0\n",
       "instrumentalness    0\n",
       "liveness            0\n",
       "valence             0\n",
       "tempo               0\n",
       "genre               0\n",
       "dtype: int64"
      ]
     },
     "execution_count": 6,
     "metadata": {},
     "output_type": "execute_result"
    }
   ],
   "source": [
    "# Check for null values\n",
    "spotify_df.isnull().sum()"
   ]
  },
  {
   "cell_type": "markdown",
   "id": "b1960764",
   "metadata": {},
   "source": [
    "#### Create Scatterplot Visualizations for Multiple Variables & Target Variable"
   ]
  },
  {
   "cell_type": "code",
   "execution_count": 7,
   "id": "ec4ce4fd",
   "metadata": {
    "scrolled": false
   },
   "outputs": [
    {
     "data": {
      "image/png": "[encoded data removed]",
      "text/plain": [
       "<Figure size 432x288 with 1 Axes>"
      ]
     },
     "metadata": {
      "needs_background": "light"
     },
     "output_type": "display_data"
    }
   ],
   "source": [
    "# Build scatterplot visualization: Song Duration vs Popularity Score\n",
    "fig=plt.figure()\n",
    "ax=fig.add_axes([0, 0, 1, 1])\n",
    "ax.scatter(spotify_df['duration_ms'], spotify_df['popularity'], color='purple', marker='*')\n",
    "ax.set_xlabel('Song Duration (ms)')\n",
    "ax.set_ylabel('Popularity Score')\n",
    "ax.set_title('Song Duration vs Popularity Score')\n",
    "ax.grid()\n",
    "plt.show()"
   ]
  },
  {
   "cell_type": "code",
   "execution_count": 8,
   "id": "4a30f0d5",
   "metadata": {},
   "outputs": [
    {
     "data": {
      "image/png": "[encoded data removed]",
      "text/plain": [
       "<Figure size 432x288 with 1 Axes>"
      ]
     },
     "metadata": {
      "needs_background": "light"
     },
     "output_type": "display_data"
    }
   ],
   "source": [
    "# Build scatterplot visualization: Danceability vs Popularity Score\n",
    "fig=plt.figure()\n",
    "ax=fig.add_axes([0, 0, 1, 1])\n",
    "ax.scatter(spotify_df['danceability'], spotify_df['popularity'], color='red', marker='d')\n",
    "ax.set_xlabel('Danceability')\n",
    "ax.set_ylabel('Popularity Score')\n",
    "ax.set_title('Danceability vs Popularity Score')\n",
    "ax.grid()\n",
    "plt.show()"
   ]
  },
  {
   "cell_type": "code",
   "execution_count": 9,
   "id": "f164a7c4",
   "metadata": {},
   "outputs": [
    {
     "data": {
      "image/png": "[encoded data removed]",
      "text/plain": [
       "<Figure size 432x288 with 1 Axes>"
      ]
     },
     "metadata": {
      "needs_background": "light"
     },
     "output_type": "display_data"
    }
   ],
   "source": [
    "# Build scatterplot visualization: Energy vs Popularity Score\n",
    "fig=plt.figure()\n",
    "ax=fig.add_axes([0, 0, 1, 1])\n",
    "ax.scatter(spotify_df['energy'], spotify_df['popularity'], color='green', marker='^')\n",
    "ax.set_xlabel('Energy')\n",
    "ax.set_ylabel('Popularity Score')\n",
    "ax.set_title('Energy vs Popularity Score')\n",
    "ax.grid()\n",
    "plt.show()"
   ]
  },
  {
   "cell_type": "code",
   "execution_count": 10,
   "id": "a04a0770",
   "metadata": {},
   "outputs": [
    {
     "data": {
      "image/png": "[encoded data removed]",
      "text/plain": [
       "<Figure size 432x288 with 1 Axes>"
      ]
     },
     "metadata": {
      "needs_background": "light"
     },
     "output_type": "display_data"
    }
   ],
   "source": [
    "# Build scatterplot visualization: Key vs Popularity Score\n",
    "fig=plt.figure()\n",
    "ax=fig.add_axes([0, 0, 1, 1])\n",
    "ax.scatter(spotify_df['key'], spotify_df['popularity'], color='blue')\n",
    "ax.set_xlabel('Key')\n",
    "ax.set_ylabel('Popularity Score')\n",
    "ax.set_title('Key vs Popularity Score')\n",
    "ax.grid()\n",
    "plt.show()"
   ]
  },
  {
   "cell_type": "code",
   "execution_count": 11,
   "id": "07196585",
   "metadata": {},
   "outputs": [
    {
     "data": {
      "image/png": "[encoded data removed]",
      "text/plain": [
       "<Figure size 432x288 with 1 Axes>"
      ]
     },
     "metadata": {
      "needs_background": "light"
     },
     "output_type": "display_data"
    }
   ],
   "source": [
    "# Build scatterplot visualization: Loudness vs Popularity Score\n",
    "fig=plt.figure()\n",
    "ax=fig.add_axes([0, 0, 1, 1])\n",
    "ax.scatter(spotify_df['loudness'], spotify_df['popularity'], color='orange', marker='*')\n",
    "ax.set_xlabel('Loudness')\n",
    "ax.set_ylabel('Popularity Score')\n",
    "ax.set_title('Loudness vs Popularity Score')\n",
    "ax.grid()\n",
    "plt.show()"
   ]
  },
  {
   "cell_type": "code",
   "execution_count": 12,
   "id": "966649a8",
   "metadata": {},
   "outputs": [
    {
     "data": {
      "image/png": "[encoded data removed]",
      "text/plain": [
       "<Figure size 432x288 with 1 Axes>"
      ]
     },
     "metadata": {
      "needs_background": "light"
     },
     "output_type": "display_data"
    }
   ],
   "source": [
    "# Build scatterplot visualization: Mode vs Popularity Score\n",
    "fig=plt.figure()\n",
    "ax=fig.add_axes([0, 0, 1, 1])\n",
    "ax.scatter(spotify_df['mode'], spotify_df['popularity'], color='k')\n",
    "ax.set_xlabel('Mode')\n",
    "ax.set_ylabel('Popularity Score')\n",
    "ax.set_title('Mode vs Popularity Score')\n",
    "ax.grid()\n",
    "plt.show()"
   ]
  },
  {
   "cell_type": "code",
   "execution_count": 13,
   "id": "6297890e",
   "metadata": {},
   "outputs": [
    {
     "data": {
      "image/png": "[encoded data removed]",
      "text/plain": [
       "<Figure size 432x288 with 1 Axes>"
      ]
     },
     "metadata": {
      "needs_background": "light"
     },
     "output_type": "display_data"
    }
   ],
   "source": [
    "# Build scatterplot visualization: Speechiness vs Popularity Score\n",
    "fig=plt.figure()\n",
    "ax=fig.add_axes([0, 0, 1, 1])\n",
    "ax.scatter(spotify_df['speechiness'], spotify_df['popularity'], color='k')\n",
    "ax.set_xlabel('Speechiness')\n",
    "ax.set_ylabel('Popularity Score')\n",
    "ax.set_title('Speechiness vs Popularity Score')\n",
    "ax.grid()\n",
    "plt.show()"
   ]
  },
  {
   "cell_type": "code",
   "execution_count": 14,
   "id": "eb677227",
   "metadata": {},
   "outputs": [
    {
     "data": {
      "image/png": "[encoded data removed]",
      "text/plain": [
       "<Figure size 432x288 with 1 Axes>"
      ]
     },
     "metadata": {
      "needs_background": "light"
     },
     "output_type": "display_data"
    }
   ],
   "source": [
    "# Build scatterplot visualization: Acousticness vs Popularity Score\n",
    "fig=plt.figure()\n",
    "ax=fig.add_axes([0, 0, 1, 1])\n",
    "ax.scatter(spotify_df['acousticness'], spotify_df['popularity'], color='g')\n",
    "ax.set_xlabel('Acousticness')\n",
    "ax.set_ylabel('Popularity Score')\n",
    "ax.set_title('Acousticness vs Popularity Score')\n",
    "ax.grid()\n",
    "plt.show()"
   ]
  },
  {
   "cell_type": "code",
   "execution_count": 15,
   "id": "ea179f6c",
   "metadata": {},
   "outputs": [
    {
     "data": {
      "image/png": "[encoded data removed]",
      "text/plain": [
       "<Figure size 432x288 with 1 Axes>"
      ]
     },
     "metadata": {
      "needs_background": "light"
     },
     "output_type": "display_data"
    }
   ],
   "source": [
    "# Build scatterplot visualization: Liveness vs Popularity Score\n",
    "fig=plt.figure()\n",
    "ax=fig.add_axes([0, 0, 1, 1])\n",
    "ax.scatter(spotify_df['liveness'], spotify_df['popularity'], color='y')\n",
    "ax.set_xlabel('Liveness')\n",
    "ax.set_ylabel('Popularity Score')\n",
    "ax.set_title('Liveness vs Popularity Score')\n",
    "ax.grid()\n",
    "plt.show()"
   ]
  },
  {
   "cell_type": "code",
   "execution_count": 16,
   "id": "25f849b7",
   "metadata": {},
   "outputs": [
    {
     "data": {
      "image/png": "[encoded data removed]",
      "text/plain": [
       "<Figure size 432x288 with 1 Axes>"
      ]
     },
     "metadata": {
      "needs_background": "light"
     },
     "output_type": "display_data"
    }
   ],
   "source": [
    "# Build scatterplot visualization: Valence vs Popularity Score\n",
    "fig=plt.figure()\n",
    "ax=fig.add_axes([0, 0, 1, 1])\n",
    "ax.scatter(spotify_df['valence'], spotify_df['popularity'], color='r')\n",
    "ax.set_xlabel('Valence')\n",
    "ax.set_ylabel('Popularity Score')\n",
    "ax.set_title('Valence vs Popularity Score')\n",
    "ax.grid()\n",
    "plt.show()"
   ]
  },
  {
   "cell_type": "code",
   "execution_count": 17,
   "id": "db5de9c2",
   "metadata": {},
   "outputs": [
    {
     "data": {
      "image/png": "[encoded data removed]",
      "text/plain": [
       "<Figure size 432x288 with 1 Axes>"
      ]
     },
     "metadata": {
      "needs_background": "light"
     },
     "output_type": "display_data"
    }
   ],
   "source": [
    "# Build scatterplot visualization: Tempo vs Popularity Score\n",
    "fig=plt.figure()\n",
    "ax=fig.add_axes([0, 0, 1, 1])\n",
    "ax.scatter(spotify_df['tempo'], spotify_df['popularity'], color='blue', marker=\"^\")\n",
    "ax.set_xlabel('Tempo')\n",
    "ax.set_ylabel('Popularity Score')\n",
    "ax.set_title('Tempo vs Popularity Score')\n",
    "ax.grid()\n",
    "plt.show()"
   ]
  },
  {
   "cell_type": "markdown",
   "id": "37294783",
   "metadata": {},
   "source": [
    "#### Check for Outliers in Target Variable"
   ]
  },
  {
   "cell_type": "code",
   "execution_count": 18,
   "id": "a6d77563",
   "metadata": {},
   "outputs": [
    {
     "data": {
      "text/plain": [
       "Text(0.5, 1.0, 'Song Popularity Box Plot')"
      ]
     },
     "execution_count": 18,
     "metadata": {},
     "output_type": "execute_result"
    },
    {
     "data": {
      "image/png": "[encoded data removed]",
      "text/plain": [
       "<Figure size 432x288 with 1 Axes>"
      ]
     },
     "metadata": {
      "needs_background": "light"
     },
     "output_type": "display_data"
    }
   ],
   "source": [
    "# Create box plot for Popularity\n",
    "plt.boxplot(spotify_df.popularity, notch=True)\n",
    "plt.title(\"Song Popularity Box Plot\")"
   ]
  },
  {
   "cell_type": "markdown",
   "id": "ade1b2ef",
   "metadata": {},
   "source": [
    "#### Review Target Variable Distribution to Determine Threshold"
   ]
  },
  {
   "cell_type": "code",
   "execution_count": 19,
   "id": "6d5ef3b6",
   "metadata": {},
   "outputs": [
    {
     "data": {
      "image/png": "[encoded data removed]",
      "text/plain": [
       "<Figure size 432x288 with 1 Axes>"
      ]
     },
     "metadata": {
      "needs_background": "light"
     },
     "output_type": "display_data"
    }
   ],
   "source": [
    "# Create a histogram of the variable Popularity\n",
    "spotify_df['popularity'].hist(bins=25)\n",
    "plt.title(\"Popularity Histogram\")\n",
    "plt.xlabel(\"Popularity Score\")\n",
    "plt.ylabel(\"Count of Songs\")\n",
    "plt.show()"
   ]
  },
  {
   "cell_type": "code",
   "execution_count": 20,
   "id": "3a85e6f4",
   "metadata": {
    "scrolled": false
   },
   "outputs": [],
   "source": [
    "# Get popularity occurances\n",
    "counts = spotify_df['popularity'].value_counts()\n",
    "counts.to_csv('popularity.csv')"
   ]
  },
  {
   "cell_type": "markdown",
   "id": "fa050a42",
   "metadata": {},
   "source": [
    "## Project Milestone 4 Carryover"
   ]
  },
  {
   "cell_type": "markdown",
   "id": "93e1c6b8",
   "metadata": {},
   "source": [
    "#### Transform Target Variable into Binary Values"
   ]
  },
  {
   "cell_type": "code",
   "execution_count": 21,
   "id": "2a88362a",
   "metadata": {},
   "outputs": [],
   "source": [
    "# Code popularity greater than or equal to 80 as 1 (High Popularity)\n",
    "spotify_df['high_popularity'] = spotify_df['popularity'].where(spotify_df['popularity'] <= 80, 1)"
   ]
  },
  {
   "cell_type": "code",
   "execution_count": 22,
   "id": "0fba17d3",
   "metadata": {},
   "outputs": [],
   "source": [
    "# Code popularity less than 80 as 0 (Low Popularity)\n",
    "spotify_df['high_popularity'] = spotify_df['high_popularity'].where(spotify_df['popularity'] > 80, 0)"
   ]
  },
  {
   "cell_type": "code",
   "execution_count": 23,
   "id": "9d9c7b03",
   "metadata": {},
   "outputs": [
    {
     "data": {
      "text/html": [
       "<div>\n",
       "<style scoped>\n",
       "    .dataframe tbody tr th:only-of-type {\n",
       "        vertical-align: middle;\n",
       "    }\n",
       "\n",
       "    .dataframe tbody tr th {\n",
       "        vertical-align: top;\n",
       "    }\n",
       "\n",
       "    .dataframe thead th {\n",
       "        text-align: right;\n",
       "    }\n",
       "</style>\n",
       "<table border=\"1\" class=\"dataframe\">\n",
       "  <thead>\n",
       "    <tr style=\"text-align: right;\">\n",
       "      <th></th>\n",
       "      <th>artist</th>\n",
       "      <th>song</th>\n",
       "      <th>duration_ms</th>\n",
       "      <th>explicit</th>\n",
       "      <th>year</th>\n",
       "      <th>popularity</th>\n",
       "      <th>danceability</th>\n",
       "      <th>energy</th>\n",
       "      <th>key</th>\n",
       "      <th>loudness</th>\n",
       "      <th>mode</th>\n",
       "      <th>speechiness</th>\n",
       "      <th>acousticness</th>\n",
       "      <th>instrumentalness</th>\n",
       "      <th>liveness</th>\n",
       "      <th>valence</th>\n",
       "      <th>tempo</th>\n",
       "      <th>genre</th>\n",
       "      <th>high_popularity</th>\n",
       "    </tr>\n",
       "  </thead>\n",
       "  <tbody>\n",
       "    <tr>\n",
       "      <th>0</th>\n",
       "      <td>Britney Spears</td>\n",
       "      <td>Oops!...I Did It Again</td>\n",
       "      <td>211160</td>\n",
       "      <td>False</td>\n",
       "      <td>2000</td>\n",
       "      <td>77</td>\n",
       "      <td>0.751</td>\n",
       "      <td>0.834</td>\n",
       "      <td>1</td>\n",
       "      <td>-5.444</td>\n",
       "      <td>0</td>\n",
       "      <td>0.0437</td>\n",
       "      <td>0.3000</td>\n",
       "      <td>0.000018</td>\n",
       "      <td>0.3550</td>\n",
       "      <td>0.894</td>\n",
       "      <td>95.053</td>\n",
       "      <td>pop</td>\n",
       "      <td>0</td>\n",
       "    </tr>\n",
       "    <tr>\n",
       "      <th>1</th>\n",
       "      <td>blink-182</td>\n",
       "      <td>All The Small Things</td>\n",
       "      <td>167066</td>\n",
       "      <td>False</td>\n",
       "      <td>1999</td>\n",
       "      <td>79</td>\n",
       "      <td>0.434</td>\n",
       "      <td>0.897</td>\n",
       "      <td>0</td>\n",
       "      <td>-4.918</td>\n",
       "      <td>1</td>\n",
       "      <td>0.0488</td>\n",
       "      <td>0.0103</td>\n",
       "      <td>0.000000</td>\n",
       "      <td>0.6120</td>\n",
       "      <td>0.684</td>\n",
       "      <td>148.726</td>\n",
       "      <td>rock, pop</td>\n",
       "      <td>0</td>\n",
       "    </tr>\n",
       "    <tr>\n",
       "      <th>2</th>\n",
       "      <td>Faith Hill</td>\n",
       "      <td>Breathe</td>\n",
       "      <td>250546</td>\n",
       "      <td>False</td>\n",
       "      <td>1999</td>\n",
       "      <td>66</td>\n",
       "      <td>0.529</td>\n",
       "      <td>0.496</td>\n",
       "      <td>7</td>\n",
       "      <td>-9.007</td>\n",
       "      <td>1</td>\n",
       "      <td>0.0290</td>\n",
       "      <td>0.1730</td>\n",
       "      <td>0.000000</td>\n",
       "      <td>0.2510</td>\n",
       "      <td>0.278</td>\n",
       "      <td>136.859</td>\n",
       "      <td>pop, country</td>\n",
       "      <td>0</td>\n",
       "    </tr>\n",
       "    <tr>\n",
       "      <th>3</th>\n",
       "      <td>Bon Jovi</td>\n",
       "      <td>It's My Life</td>\n",
       "      <td>224493</td>\n",
       "      <td>False</td>\n",
       "      <td>2000</td>\n",
       "      <td>78</td>\n",
       "      <td>0.551</td>\n",
       "      <td>0.913</td>\n",
       "      <td>0</td>\n",
       "      <td>-4.063</td>\n",
       "      <td>0</td>\n",
       "      <td>0.0466</td>\n",
       "      <td>0.0263</td>\n",
       "      <td>0.000013</td>\n",
       "      <td>0.3470</td>\n",
       "      <td>0.544</td>\n",
       "      <td>119.992</td>\n",
       "      <td>rock, metal</td>\n",
       "      <td>0</td>\n",
       "    </tr>\n",
       "    <tr>\n",
       "      <th>4</th>\n",
       "      <td>*NSYNC</td>\n",
       "      <td>Bye Bye Bye</td>\n",
       "      <td>200560</td>\n",
       "      <td>False</td>\n",
       "      <td>2000</td>\n",
       "      <td>65</td>\n",
       "      <td>0.614</td>\n",
       "      <td>0.928</td>\n",
       "      <td>8</td>\n",
       "      <td>-4.806</td>\n",
       "      <td>0</td>\n",
       "      <td>0.0516</td>\n",
       "      <td>0.0408</td>\n",
       "      <td>0.001040</td>\n",
       "      <td>0.0845</td>\n",
       "      <td>0.879</td>\n",
       "      <td>172.656</td>\n",
       "      <td>pop</td>\n",
       "      <td>0</td>\n",
       "    </tr>\n",
       "    <tr>\n",
       "      <th>...</th>\n",
       "      <td>...</td>\n",
       "      <td>...</td>\n",
       "      <td>...</td>\n",
       "      <td>...</td>\n",
       "      <td>...</td>\n",
       "      <td>...</td>\n",
       "      <td>...</td>\n",
       "      <td>...</td>\n",
       "      <td>...</td>\n",
       "      <td>...</td>\n",
       "      <td>...</td>\n",
       "      <td>...</td>\n",
       "      <td>...</td>\n",
       "      <td>...</td>\n",
       "      <td>...</td>\n",
       "      <td>...</td>\n",
       "      <td>...</td>\n",
       "      <td>...</td>\n",
       "      <td>...</td>\n",
       "    </tr>\n",
       "    <tr>\n",
       "      <th>1995</th>\n",
       "      <td>Jonas Brothers</td>\n",
       "      <td>Sucker</td>\n",
       "      <td>181026</td>\n",
       "      <td>False</td>\n",
       "      <td>2019</td>\n",
       "      <td>79</td>\n",
       "      <td>0.842</td>\n",
       "      <td>0.734</td>\n",
       "      <td>1</td>\n",
       "      <td>-5.065</td>\n",
       "      <td>0</td>\n",
       "      <td>0.0588</td>\n",
       "      <td>0.0427</td>\n",
       "      <td>0.000000</td>\n",
       "      <td>0.1060</td>\n",
       "      <td>0.952</td>\n",
       "      <td>137.958</td>\n",
       "      <td>pop</td>\n",
       "      <td>0</td>\n",
       "    </tr>\n",
       "    <tr>\n",
       "      <th>1996</th>\n",
       "      <td>Taylor Swift</td>\n",
       "      <td>Cruel Summer</td>\n",
       "      <td>178426</td>\n",
       "      <td>False</td>\n",
       "      <td>2019</td>\n",
       "      <td>78</td>\n",
       "      <td>0.552</td>\n",
       "      <td>0.702</td>\n",
       "      <td>9</td>\n",
       "      <td>-5.707</td>\n",
       "      <td>1</td>\n",
       "      <td>0.1570</td>\n",
       "      <td>0.1170</td>\n",
       "      <td>0.000021</td>\n",
       "      <td>0.1050</td>\n",
       "      <td>0.564</td>\n",
       "      <td>169.994</td>\n",
       "      <td>pop</td>\n",
       "      <td>0</td>\n",
       "    </tr>\n",
       "    <tr>\n",
       "      <th>1997</th>\n",
       "      <td>Blanco Brown</td>\n",
       "      <td>The Git Up</td>\n",
       "      <td>200593</td>\n",
       "      <td>False</td>\n",
       "      <td>2019</td>\n",
       "      <td>69</td>\n",
       "      <td>0.847</td>\n",
       "      <td>0.678</td>\n",
       "      <td>9</td>\n",
       "      <td>-8.635</td>\n",
       "      <td>1</td>\n",
       "      <td>0.1090</td>\n",
       "      <td>0.0669</td>\n",
       "      <td>0.000000</td>\n",
       "      <td>0.2740</td>\n",
       "      <td>0.811</td>\n",
       "      <td>97.984</td>\n",
       "      <td>hip hop, country</td>\n",
       "      <td>0</td>\n",
       "    </tr>\n",
       "    <tr>\n",
       "      <th>1998</th>\n",
       "      <td>Sam Smith</td>\n",
       "      <td>Dancing With A Stranger (with Normani)</td>\n",
       "      <td>171029</td>\n",
       "      <td>False</td>\n",
       "      <td>2019</td>\n",
       "      <td>75</td>\n",
       "      <td>0.741</td>\n",
       "      <td>0.520</td>\n",
       "      <td>8</td>\n",
       "      <td>-7.513</td>\n",
       "      <td>1</td>\n",
       "      <td>0.0656</td>\n",
       "      <td>0.4500</td>\n",
       "      <td>0.000002</td>\n",
       "      <td>0.2220</td>\n",
       "      <td>0.347</td>\n",
       "      <td>102.998</td>\n",
       "      <td>pop</td>\n",
       "      <td>0</td>\n",
       "    </tr>\n",
       "    <tr>\n",
       "      <th>1999</th>\n",
       "      <td>Post Malone</td>\n",
       "      <td>Circles</td>\n",
       "      <td>215280</td>\n",
       "      <td>False</td>\n",
       "      <td>2019</td>\n",
       "      <td>85</td>\n",
       "      <td>0.695</td>\n",
       "      <td>0.762</td>\n",
       "      <td>0</td>\n",
       "      <td>-3.497</td>\n",
       "      <td>1</td>\n",
       "      <td>0.0395</td>\n",
       "      <td>0.1920</td>\n",
       "      <td>0.002440</td>\n",
       "      <td>0.0863</td>\n",
       "      <td>0.553</td>\n",
       "      <td>120.042</td>\n",
       "      <td>hip hop</td>\n",
       "      <td>1</td>\n",
       "    </tr>\n",
       "  </tbody>\n",
       "</table>\n",
       "<p>2000 rows × 19 columns</p>\n",
       "</div>"
      ],
      "text/plain": [
       "              artist                                    song  duration_ms  \\\n",
       "0     Britney Spears                  Oops!...I Did It Again       211160   \n",
       "1          blink-182                    All The Small Things       167066   \n",
       "2         Faith Hill                                 Breathe       250546   \n",
       "3           Bon Jovi                            It's My Life       224493   \n",
       "4             *NSYNC                             Bye Bye Bye       200560   \n",
       "...              ...                                     ...          ...   \n",
       "1995  Jonas Brothers                                  Sucker       181026   \n",
       "1996    Taylor Swift                            Cruel Summer       178426   \n",
       "1997    Blanco Brown                              The Git Up       200593   \n",
       "1998       Sam Smith  Dancing With A Stranger (with Normani)       171029   \n",
       "1999     Post Malone                                 Circles       215280   \n",
       "\n",
       "      explicit  year  popularity  danceability  energy  key  loudness  mode  \\\n",
       "0        False  2000          77         0.751   0.834    1    -5.444     0   \n",
       "1        False  1999          79         0.434   0.897    0    -4.918     1   \n",
       "2        False  1999          66         0.529   0.496    7    -9.007     1   \n",
       "3        False  2000          78         0.551   0.913    0    -4.063     0   \n",
       "4        False  2000          65         0.614   0.928    8    -4.806     0   \n",
       "...        ...   ...         ...           ...     ...  ...       ...   ...   \n",
       "1995     False  2019          79         0.842   0.734    1    -5.065     0   \n",
       "1996     False  2019          78         0.552   0.702    9    -5.707     1   \n",
       "1997     False  2019          69         0.847   0.678    9    -8.635     1   \n",
       "1998     False  2019          75         0.741   0.520    8    -7.513     1   \n",
       "1999     False  2019          85         0.695   0.762    0    -3.497     1   \n",
       "\n",
       "      speechiness  acousticness  instrumentalness  liveness  valence    tempo  \\\n",
       "0          0.0437        0.3000          0.000018    0.3550    0.894   95.053   \n",
       "1          0.0488        0.0103          0.000000    0.6120    0.684  148.726   \n",
       "2          0.0290        0.1730          0.000000    0.2510    0.278  136.859   \n",
       "3          0.0466        0.0263          0.000013    0.3470    0.544  119.992   \n",
       "4          0.0516        0.0408          0.001040    0.0845    0.879  172.656   \n",
       "...           ...           ...               ...       ...      ...      ...   \n",
       "1995       0.0588        0.0427          0.000000    0.1060    0.952  137.958   \n",
       "1996       0.1570        0.1170          0.000021    0.1050    0.564  169.994   \n",
       "1997       0.1090        0.0669          0.000000    0.2740    0.811   97.984   \n",
       "1998       0.0656        0.4500          0.000002    0.2220    0.347  102.998   \n",
       "1999       0.0395        0.1920          0.002440    0.0863    0.553  120.042   \n",
       "\n",
       "                 genre  high_popularity  \n",
       "0                  pop                0  \n",
       "1            rock, pop                0  \n",
       "2         pop, country                0  \n",
       "3          rock, metal                0  \n",
       "4                  pop                0  \n",
       "...                ...              ...  \n",
       "1995               pop                0  \n",
       "1996               pop                0  \n",
       "1997  hip hop, country                0  \n",
       "1998               pop                0  \n",
       "1999           hip hop                1  \n",
       "\n",
       "[2000 rows x 19 columns]"
      ]
     },
     "execution_count": 23,
     "metadata": {},
     "output_type": "execute_result"
    }
   ],
   "source": [
    "# Validate results\n",
    "spotify_df"
   ]
  },
  {
   "cell_type": "markdown",
   "id": "36aeec72",
   "metadata": {},
   "source": [
    "#### Review Class Distribution"
   ]
  },
  {
   "cell_type": "code",
   "execution_count": 24,
   "id": "083fe08e",
   "metadata": {},
   "outputs": [
    {
     "data": {
      "text/plain": [
       "0    1908\n",
       "1      92\n",
       "Name: high_popularity, dtype: int64"
      ]
     },
     "execution_count": 24,
     "metadata": {},
     "output_type": "execute_result"
    }
   ],
   "source": [
    "# Check Popularity values\n",
    "spotify_df['high_popularity'].value_counts()"
   ]
  },
  {
   "cell_type": "markdown",
   "id": "a667bd21",
   "metadata": {},
   "source": [
    "#### Load Libraries for Model Creation"
   ]
  },
  {
   "cell_type": "code",
   "execution_count": 25,
   "id": "1e20347b",
   "metadata": {},
   "outputs": [],
   "source": [
    "# Load libraries\n",
    "from collections import Counter\n",
    "from imblearn.over_sampling import SMOTE\n",
    "from sklearn.model_selection import train_test_split\n",
    "from sklearn.preprocessing import StandardScaler\n",
    "from sklearn.neighbors import KNeighborsClassifier\n",
    "from sklearn.pipeline import Pipeline\n",
    "from sklearn.metrics import accuracy_score\n",
    "from sklearn.metrics import confusion_matrix\n",
    "from sklearn.model_selection import GridSearchCV\n",
    "import seaborn as sns\n",
    "from sklearn.ensemble import RandomForestClassifier"
   ]
  },
  {
   "cell_type": "markdown",
   "id": "5dc5ee28",
   "metadata": {},
   "source": [
    "#### Create Training & Test Datasets"
   ]
  },
  {
   "cell_type": "code",
   "execution_count": 26,
   "id": "a70a30f6",
   "metadata": {},
   "outputs": [],
   "source": [
    "# Split into independent & dependent variables\n",
    "x = spotify_df[['duration_ms', 'danceability', 'energy', 'key', 'loudness', 'mode', \n",
    "            'speechiness', 'acousticness', 'instrumentalness', 'liveness', 'valence','tempo']]\n",
    "y = spotify_df['high_popularity']"
   ]
  },
  {
   "cell_type": "code",
   "execution_count": 27,
   "id": "98429d57",
   "metadata": {},
   "outputs": [],
   "source": [
    "# Create training & test datasets with 80-20 split\n",
    "x_train, x_test, y_train, y_test = train_test_split(x, y, test_size = 0.2)"
   ]
  },
  {
   "cell_type": "code",
   "execution_count": 28,
   "id": "ce7c9790",
   "metadata": {},
   "outputs": [
    {
     "name": "stdout",
     "output_type": "stream",
     "text": [
      "Before oversampling:  Counter({0: 1537, 1: 63})\n"
     ]
    }
   ],
   "source": [
    "# Note initial class distribution\n",
    "print(\"Before oversampling: \",Counter(y_train))"
   ]
  },
  {
   "cell_type": "markdown",
   "id": "490feee2",
   "metadata": {},
   "source": [
    "#### Leverage SMOTE"
   ]
  },
  {
   "cell_type": "code",
   "execution_count": 29,
   "id": "ca114469",
   "metadata": {},
   "outputs": [],
   "source": [
    "# SMOTE for oversampling strategy\n",
    "SMOTE = SMOTE()"
   ]
  },
  {
   "cell_type": "code",
   "execution_count": 30,
   "id": "98c4006a",
   "metadata": {},
   "outputs": [],
   "source": [
    "# Fit and apply the transform\n",
    "x_train_SMOTE, y_train_SMOTE = SMOTE.fit_resample(x_train, y_train)"
   ]
  },
  {
   "cell_type": "code",
   "execution_count": 31,
   "id": "7df77813",
   "metadata": {},
   "outputs": [
    {
     "name": "stdout",
     "output_type": "stream",
     "text": [
      "After oversampling:  Counter({0: 1537, 1: 1537})\n"
     ]
    }
   ],
   "source": [
    "# Summarize class distribution to verify SMOTE success\n",
    "print(\"After oversampling: \",Counter(y_train_SMOTE))"
   ]
  },
  {
   "cell_type": "markdown",
   "id": "bf71a9bb",
   "metadata": {},
   "source": [
    "#### Build KNN Model"
   ]
  },
  {
   "cell_type": "code",
   "execution_count": 32,
   "id": "9bee5e01",
   "metadata": {},
   "outputs": [],
   "source": [
    "# Create standardizer\n",
    "standardizer = StandardScaler()\n",
    "\n",
    "# Standardize features\n",
    "x_train_s = standardizer.fit_transform(x_train_SMOTE)\n",
    "x_test_s = standardizer.transform(x_test)\n",
    "\n",
    "# Create KNN classifier\n",
    "knn = KNeighborsClassifier(n_neighbors=4, n_jobs=-1)\n",
    "\n",
    "# Build pipeline\n",
    "pipe = Pipeline([(\"standardizer\", standardizer), (\"knn\", knn)])"
   ]
  },
  {
   "cell_type": "code",
   "execution_count": 33,
   "id": "ddf19198",
   "metadata": {},
   "outputs": [
    {
     "data": {
      "text/html": [
       "<style>#sk-container-id-1 {color: black;background-color: white;}#sk-container-id-1 pre{padding: 0;}#sk-container-id-1 div.sk-toggleable {background-color: white;}#sk-container-id-1 label.sk-toggleable__label {cursor: pointer;display: block;width: 100%;margin-bottom: 0;padding: 0.3em;box-sizing: border-box;text-align: center;}#sk-container-id-1 label.sk-toggleable__label-arrow:before {content: \"▸\";float: left;margin-right: 0.25em;color: #696969;}#sk-container-id-1 label.sk-toggleable__label-arrow:hover:before {color: black;}#sk-container-id-1 div.sk-estimator:hover label.sk-toggleable__label-arrow:before {color: black;}#sk-container-id-1 div.sk-toggleable__content {max-height: 0;max-width: 0;overflow: hidden;text-align: left;background-color: #f0f8ff;}#sk-container-id-1 div.sk-toggleable__content pre {margin: 0.2em;color: black;border-radius: 0.25em;background-color: #f0f8ff;}#sk-container-id-1 input.sk-toggleable__control:checked~div.sk-toggleable__content {max-height: 200px;max-width: 100%;overflow: auto;}#sk-container-id-1 input.sk-toggleable__control:checked~label.sk-toggleable__label-arrow:before {content: \"▾\";}#sk-container-id-1 div.sk-estimator input.sk-toggleable__control:checked~label.sk-toggleable__label {background-color: #d4ebff;}#sk-container-id-1 div.sk-label input.sk-toggleable__control:checked~label.sk-toggleable__label {background-color: #d4ebff;}#sk-container-id-1 input.sk-hidden--visually {border: 0;clip: rect(1px 1px 1px 1px);clip: rect(1px, 1px, 1px, 1px);height: 1px;margin: -1px;overflow: hidden;padding: 0;position: absolute;width: 1px;}#sk-container-id-1 div.sk-estimator {font-family: monospace;background-color: #f0f8ff;border: 1px dotted black;border-radius: 0.25em;box-sizing: border-box;margin-bottom: 0.5em;}#sk-container-id-1 div.sk-estimator:hover {background-color: #d4ebff;}#sk-container-id-1 div.sk-parallel-item::after {content: \"\";width: 100%;border-bottom: 1px solid gray;flex-grow: 1;}#sk-container-id-1 div.sk-label:hover label.sk-toggleable__label {background-color: #d4ebff;}#sk-container-id-1 div.sk-serial::before {content: \"\";position: absolute;border-left: 1px solid gray;box-sizing: border-box;top: 0;bottom: 0;left: 50%;z-index: 0;}#sk-container-id-1 div.sk-serial {display: flex;flex-direction: column;align-items: center;background-color: white;padding-right: 0.2em;padding-left: 0.2em;position: relative;}#sk-container-id-1 div.sk-item {position: relative;z-index: 1;}#sk-container-id-1 div.sk-parallel {display: flex;align-items: stretch;justify-content: center;background-color: white;position: relative;}#sk-container-id-1 div.sk-item::before, #sk-container-id-1 div.sk-parallel-item::before {content: \"\";position: absolute;border-left: 1px solid gray;box-sizing: border-box;top: 0;bottom: 0;left: 50%;z-index: -1;}#sk-container-id-1 div.sk-parallel-item {display: flex;flex-direction: column;z-index: 1;position: relative;background-color: white;}#sk-container-id-1 div.sk-parallel-item:first-child::after {align-self: flex-end;width: 50%;}#sk-container-id-1 div.sk-parallel-item:last-child::after {align-self: flex-start;width: 50%;}#sk-container-id-1 div.sk-parallel-item:only-child::after {width: 0;}#sk-container-id-1 div.sk-dashed-wrapped {border: 1px dashed gray;margin: 0 0.4em 0.5em 0.4em;box-sizing: border-box;padding-bottom: 0.4em;background-color: white;}#sk-container-id-1 div.sk-label label {font-family: monospace;font-weight: bold;display: inline-block;line-height: 1.2em;}#sk-container-id-1 div.sk-label-container {text-align: center;}#sk-container-id-1 div.sk-container {/* jupyter's `normalize.less` sets `[hidden] { display: none; }` but bootstrap.min.css set `[hidden] { display: none !important; }` so we also need the `!important` here to be able to override the default hidden behavior on the sphinx rendered scikit-learn.org. See: https://github.com/scikit-learn/scikit-learn/issues/21755 */display: inline-block !important;position: relative;}#sk-container-id-1 div.sk-text-repr-fallback {display: none;}</style><div id=\"sk-container-id-1\" class=\"sk-top-container\"><div class=\"sk-text-repr-fallback\"><pre>Pipeline(steps=[(&#x27;standardizer&#x27;, StandardScaler()),\n",
       "                (&#x27;knn&#x27;, KNeighborsClassifier(n_jobs=-1, n_neighbors=4))])</pre><b>In a Jupyter environment, please rerun this cell to show the HTML representation or trust the notebook. <br />On GitHub, the HTML representation is unable to render, please try loading this page with nbviewer.org.</b></div><div class=\"sk-container\" hidden><div class=\"sk-item sk-dashed-wrapped\"><div class=\"sk-label-container\"><div class=\"sk-label sk-toggleable\"><input class=\"sk-toggleable__control sk-hidden--visually\" id=\"sk-estimator-id-1\" type=\"checkbox\" ><label for=\"sk-estimator-id-1\" class=\"sk-toggleable__label sk-toggleable__label-arrow\">Pipeline</label><div class=\"sk-toggleable__content\"><pre>Pipeline(steps=[(&#x27;standardizer&#x27;, StandardScaler()),\n",
       "                (&#x27;knn&#x27;, KNeighborsClassifier(n_jobs=-1, n_neighbors=4))])</pre></div></div></div><div class=\"sk-serial\"><div class=\"sk-item\"><div class=\"sk-estimator sk-toggleable\"><input class=\"sk-toggleable__control sk-hidden--visually\" id=\"sk-estimator-id-2\" type=\"checkbox\" ><label for=\"sk-estimator-id-2\" class=\"sk-toggleable__label sk-toggleable__label-arrow\">StandardScaler</label><div class=\"sk-toggleable__content\"><pre>StandardScaler()</pre></div></div></div><div class=\"sk-item\"><div class=\"sk-estimator sk-toggleable\"><input class=\"sk-toggleable__control sk-hidden--visually\" id=\"sk-estimator-id-3\" type=\"checkbox\" ><label for=\"sk-estimator-id-3\" class=\"sk-toggleable__label sk-toggleable__label-arrow\">KNeighborsClassifier</label><div class=\"sk-toggleable__content\"><pre>KNeighborsClassifier(n_jobs=-1, n_neighbors=4)</pre></div></div></div></div></div></div></div>"
      ],
      "text/plain": [
       "Pipeline(steps=[('standardizer', StandardScaler()),\n",
       "                ('knn', KNeighborsClassifier(n_jobs=-1, n_neighbors=4))])"
      ]
     },
     "execution_count": 33,
     "metadata": {},
     "output_type": "execute_result"
    }
   ],
   "source": [
    "# Fit pipeline\n",
    "pipe.fit(x_train_s, y_train_SMOTE)"
   ]
  },
  {
   "cell_type": "code",
   "execution_count": 34,
   "id": "e8c59823",
   "metadata": {},
   "outputs": [],
   "source": [
    "# Build predictions\n",
    "pipe_pred = pipe.predict(x_test_s)"
   ]
  },
  {
   "cell_type": "code",
   "execution_count": 35,
   "id": "59a47880",
   "metadata": {},
   "outputs": [
    {
     "data": {
      "text/plain": [
       "0.7475"
      ]
     },
     "execution_count": 35,
     "metadata": {},
     "output_type": "execute_result"
    }
   ],
   "source": [
    "# Calculate accuracy\n",
    "accuracy_score(y_test, pipe_pred)"
   ]
  },
  {
   "cell_type": "markdown",
   "id": "4e6d097d",
   "metadata": {},
   "source": [
    "#### Build Improved KNN Model"
   ]
  },
  {
   "cell_type": "code",
   "execution_count": 36,
   "id": "c617adde",
   "metadata": {},
   "outputs": [],
   "source": [
    "# Create search space for number of neighbors\n",
    "search_space = [{\"knn__n_neighbors\": [1, 2, 3, 4, 5, 6, 7, 8, 9, 10, 11, 12, 13, 14, 15, 16, 17,\n",
    "                                     18, 19, 20, 21, 22, 23, 24, 25]}]"
   ]
  },
  {
   "cell_type": "code",
   "execution_count": 37,
   "id": "40de03f5",
   "metadata": {},
   "outputs": [],
   "source": [
    "# Create grid search\n",
    "classifier = GridSearchCV(pipe, search_space, cv=5, verbose=0).fit(x_train_s, y_train_SMOTE)"
   ]
  },
  {
   "cell_type": "code",
   "execution_count": 38,
   "id": "bb19c410",
   "metadata": {},
   "outputs": [
    {
     "data": {
      "text/plain": [
       "2"
      ]
     },
     "execution_count": 38,
     "metadata": {},
     "output_type": "execute_result"
    }
   ],
   "source": [
    "# Determine best value for neighbors\n",
    "classifier.best_estimator_.get_params()[\"knn__n_neighbors\"]"
   ]
  },
  {
   "cell_type": "code",
   "execution_count": 39,
   "id": "64221bc7",
   "metadata": {},
   "outputs": [],
   "source": [
    "# Build predictions\n",
    "classifier_pred = classifier.predict(x_test_s)"
   ]
  },
  {
   "cell_type": "markdown",
   "id": "2190d62c",
   "metadata": {},
   "source": [
    "#### Evaluate Optimized KNN Model"
   ]
  },
  {
   "cell_type": "code",
   "execution_count": 40,
   "id": "1aff28ab",
   "metadata": {},
   "outputs": [
    {
     "data": {
      "text/plain": [
       "0.81"
      ]
     },
     "execution_count": 40,
     "metadata": {},
     "output_type": "execute_result"
    }
   ],
   "source": [
    "# Calculate accuracy of optimized KNN neighbors\n",
    "accuracy_score(y_test, classifier_pred)"
   ]
  },
  {
   "cell_type": "code",
   "execution_count": 41,
   "id": "220d474c",
   "metadata": {},
   "outputs": [
    {
     "data": {
      "text/plain": [
       "[Text(0, 0.5, '0'), Text(0, 1.5, '1')]"
      ]
     },
     "execution_count": 41,
     "metadata": {},
     "output_type": "execute_result"
    },
    {
     "data": {
      "image/png": "[encoded data removed]",
      "text/plain": [
       "<Figure size 432x288 with 1 Axes>"
      ]
     },
     "metadata": {
      "needs_background": "light"
     },
     "output_type": "display_data"
    }
   ],
   "source": [
    "# Create confusion matrix\n",
    "matrix = confusion_matrix(y_test, classifier_pred)\n",
    "\n",
    "# Pandas dataframe\n",
    "c_df = pd.DataFrame(matrix)\n",
    "\n",
    "# Create heatmap\n",
    "ax= plt.subplot()\n",
    "sns.heatmap(c_df, annot=True, fmt=\"d\", cbar=None, cmap=\"Blues\", ax=ax)\n",
    "ax.set_title(\"KNN 80 Threshold Confusion Matrix\")\n",
    "ax.set_ylabel(\"True Popularity\"), ax.set_xlabel(\"Predicted Popularity\")\n",
    "ax.xaxis.set_ticklabels(['0', '1']); ax.yaxis.set_ticklabels(['0', '1'])"
   ]
  },
  {
   "cell_type": "code",
   "execution_count": 42,
   "id": "fff8fe60",
   "metadata": {},
   "outputs": [
    {
     "name": "stdout",
     "output_type": "stream",
     "text": [
      "Precision: 9%\n",
      "Recall: 17%\n",
      "F1-score: 12%\n"
     ]
    }
   ],
   "source": [
    "# Load libraries\n",
    "from sklearn.metrics import precision_score, recall_score, f1_score\n",
    "\n",
    "# Calculate Precision\n",
    "p = \"{:.0%}\".format(precision_score(y_test, classifier_pred))\n",
    "\n",
    "# Calculate Recall\n",
    "r = \"{:.0%}\".format(recall_score(y_test, classifier_pred))\n",
    "\n",
    "# Calculate F1-score\n",
    "f1 = \"{:.0%}\".format(f1_score(y_test, classifier_pred))\n",
    "\n",
    "# Print Evaluation Metrics\n",
    "print(\"Precision:\",p)\n",
    "print(\"Recall:\",r)\n",
    "print(\"F1-score:\",f1)"
   ]
  },
  {
   "cell_type": "markdown",
   "id": "c7191177",
   "metadata": {},
   "source": [
    "#### Construct Random Forest Model"
   ]
  },
  {
   "cell_type": "code",
   "execution_count": 43,
   "id": "63d0d33b",
   "metadata": {},
   "outputs": [
    {
     "data": {
      "text/html": [
       "<style>#sk-container-id-2 {color: black;background-color: white;}#sk-container-id-2 pre{padding: 0;}#sk-container-id-2 div.sk-toggleable {background-color: white;}#sk-container-id-2 label.sk-toggleable__label {cursor: pointer;display: block;width: 100%;margin-bottom: 0;padding: 0.3em;box-sizing: border-box;text-align: center;}#sk-container-id-2 label.sk-toggleable__label-arrow:before {content: \"▸\";float: left;margin-right: 0.25em;color: #696969;}#sk-container-id-2 label.sk-toggleable__label-arrow:hover:before {color: black;}#sk-container-id-2 div.sk-estimator:hover label.sk-toggleable__label-arrow:before {color: black;}#sk-container-id-2 div.sk-toggleable__content {max-height: 0;max-width: 0;overflow: hidden;text-align: left;background-color: #f0f8ff;}#sk-container-id-2 div.sk-toggleable__content pre {margin: 0.2em;color: black;border-radius: 0.25em;background-color: #f0f8ff;}#sk-container-id-2 input.sk-toggleable__control:checked~div.sk-toggleable__content {max-height: 200px;max-width: 100%;overflow: auto;}#sk-container-id-2 input.sk-toggleable__control:checked~label.sk-toggleable__label-arrow:before {content: \"▾\";}#sk-container-id-2 div.sk-estimator input.sk-toggleable__control:checked~label.sk-toggleable__label {background-color: #d4ebff;}#sk-container-id-2 div.sk-label input.sk-toggleable__control:checked~label.sk-toggleable__label {background-color: #d4ebff;}#sk-container-id-2 input.sk-hidden--visually {border: 0;clip: rect(1px 1px 1px 1px);clip: rect(1px, 1px, 1px, 1px);height: 1px;margin: -1px;overflow: hidden;padding: 0;position: absolute;width: 1px;}#sk-container-id-2 div.sk-estimator {font-family: monospace;background-color: #f0f8ff;border: 1px dotted black;border-radius: 0.25em;box-sizing: border-box;margin-bottom: 0.5em;}#sk-container-id-2 div.sk-estimator:hover {background-color: #d4ebff;}#sk-container-id-2 div.sk-parallel-item::after {content: \"\";width: 100%;border-bottom: 1px solid gray;flex-grow: 1;}#sk-container-id-2 div.sk-label:hover label.sk-toggleable__label {background-color: #d4ebff;}#sk-container-id-2 div.sk-serial::before {content: \"\";position: absolute;border-left: 1px solid gray;box-sizing: border-box;top: 0;bottom: 0;left: 50%;z-index: 0;}#sk-container-id-2 div.sk-serial {display: flex;flex-direction: column;align-items: center;background-color: white;padding-right: 0.2em;padding-left: 0.2em;position: relative;}#sk-container-id-2 div.sk-item {position: relative;z-index: 1;}#sk-container-id-2 div.sk-parallel {display: flex;align-items: stretch;justify-content: center;background-color: white;position: relative;}#sk-container-id-2 div.sk-item::before, #sk-container-id-2 div.sk-parallel-item::before {content: \"\";position: absolute;border-left: 1px solid gray;box-sizing: border-box;top: 0;bottom: 0;left: 50%;z-index: -1;}#sk-container-id-2 div.sk-parallel-item {display: flex;flex-direction: column;z-index: 1;position: relative;background-color: white;}#sk-container-id-2 div.sk-parallel-item:first-child::after {align-self: flex-end;width: 50%;}#sk-container-id-2 div.sk-parallel-item:last-child::after {align-self: flex-start;width: 50%;}#sk-container-id-2 div.sk-parallel-item:only-child::after {width: 0;}#sk-container-id-2 div.sk-dashed-wrapped {border: 1px dashed gray;margin: 0 0.4em 0.5em 0.4em;box-sizing: border-box;padding-bottom: 0.4em;background-color: white;}#sk-container-id-2 div.sk-label label {font-family: monospace;font-weight: bold;display: inline-block;line-height: 1.2em;}#sk-container-id-2 div.sk-label-container {text-align: center;}#sk-container-id-2 div.sk-container {/* jupyter's `normalize.less` sets `[hidden] { display: none; }` but bootstrap.min.css set `[hidden] { display: none !important; }` so we also need the `!important` here to be able to override the default hidden behavior on the sphinx rendered scikit-learn.org. See: https://github.com/scikit-learn/scikit-learn/issues/21755 */display: inline-block !important;position: relative;}#sk-container-id-2 div.sk-text-repr-fallback {display: none;}</style><div id=\"sk-container-id-2\" class=\"sk-top-container\"><div class=\"sk-text-repr-fallback\"><pre>RandomForestClassifier(n_estimators=1000, random_state=42)</pre><b>In a Jupyter environment, please rerun this cell to show the HTML representation or trust the notebook. <br />On GitHub, the HTML representation is unable to render, please try loading this page with nbviewer.org.</b></div><div class=\"sk-container\" hidden><div class=\"sk-item\"><div class=\"sk-estimator sk-toggleable\"><input class=\"sk-toggleable__control sk-hidden--visually\" id=\"sk-estimator-id-4\" type=\"checkbox\" checked><label for=\"sk-estimator-id-4\" class=\"sk-toggleable__label sk-toggleable__label-arrow\">RandomForestClassifier</label><div class=\"sk-toggleable__content\"><pre>RandomForestClassifier(n_estimators=1000, random_state=42)</pre></div></div></div></div></div>"
      ],
      "text/plain": [
       "RandomForestClassifier(n_estimators=1000, random_state=42)"
      ]
     },
     "execution_count": 43,
     "metadata": {},
     "output_type": "execute_result"
    }
   ],
   "source": [
    "# Build Random Forest Model\n",
    "rf = RandomForestClassifier(n_estimators=1000, random_state=42)\n",
    "\n",
    "# Train the model on training data\n",
    "rf.fit(x_train_SMOTE, y_train_SMOTE)"
   ]
  },
  {
   "cell_type": "code",
   "execution_count": 44,
   "id": "d86ee095",
   "metadata": {},
   "outputs": [],
   "source": [
    "# Build predictions\n",
    "rf_pred = rf.predict(x_test)"
   ]
  },
  {
   "cell_type": "markdown",
   "id": "4691f632",
   "metadata": {},
   "source": [
    "#### Evaluate Random Forest Model"
   ]
  },
  {
   "cell_type": "code",
   "execution_count": 45,
   "id": "fa8bf93b",
   "metadata": {},
   "outputs": [
    {
     "data": {
      "text/plain": [
       "0.92"
      ]
     },
     "execution_count": 45,
     "metadata": {},
     "output_type": "execute_result"
    }
   ],
   "source": [
    "# Calculate accuracy\n",
    "accuracy_score(y_test, rf_pred)"
   ]
  },
  {
   "cell_type": "code",
   "execution_count": 46,
   "id": "a92e71d3",
   "metadata": {},
   "outputs": [
    {
     "data": {
      "text/plain": [
       "[Text(0, 0.5, '0'), Text(0, 1.5, '1')]"
      ]
     },
     "execution_count": 46,
     "metadata": {},
     "output_type": "execute_result"
    },
    {
     "data": {
      "image/png": "[encoded data removed]",
      "text/plain": [
       "<Figure size 432x288 with 1 Axes>"
      ]
     },
     "metadata": {
      "needs_background": "light"
     },
     "output_type": "display_data"
    }
   ],
   "source": [
    "# Create confusion matrix\n",
    "rf_matrix = confusion_matrix(y_test, rf_pred)\n",
    "\n",
    "# Create pandas dataframe\n",
    "rf_c_df = pd.DataFrame(rf_matrix)\n",
    "\n",
    "# Create heatmap\n",
    "ax= plt.subplot()\n",
    "sns.heatmap(rf_c_df, annot=True, fmt=\"d\", cbar=None, cmap=\"Blues\", ax=ax)\n",
    "ax.set_title(\"Random Forest 80 Threshold Confusion Matrix\")\n",
    "ax.set_ylabel(\"True Popularity\"), ax.set_xlabel(\"Predicted Popularity\")\n",
    "ax.xaxis.set_ticklabels(['0', '1']); ax.yaxis.set_ticklabels(['0', '1'])"
   ]
  },
  {
   "cell_type": "code",
   "execution_count": 47,
   "id": "f738259d",
   "metadata": {},
   "outputs": [
    {
     "name": "stdout",
     "output_type": "stream",
     "text": [
      "Precision: 41%\n",
      "Recall: 24%\n",
      "F1-score: 30%\n"
     ]
    }
   ],
   "source": [
    "# Calculate Precision\n",
    "p = \"{:.0%}\".format(precision_score(y_test, rf_pred))\n",
    "\n",
    "# Calculate Recall\n",
    "r = \"{:.0%}\".format(recall_score(y_test, rf_pred))\n",
    "\n",
    "# Calculate F1-score\n",
    "f1 = \"{:.0%}\".format(f1_score(y_test, rf_pred))\n",
    "\n",
    "# Print Evaluation Metrics\n",
    "print(\"Precision:\",p)\n",
    "print(\"Recall:\",r)\n",
    "print(\"F1-score:\",f1)"
   ]
  },
  {
   "cell_type": "markdown",
   "id": "599ce708",
   "metadata": {},
   "source": [
    "#### Construct Logistic Regression Model"
   ]
  },
  {
   "cell_type": "code",
   "execution_count": 48,
   "id": "cd7c79f7",
   "metadata": {},
   "outputs": [],
   "source": [
    "# Load library\n",
    "from sklearn.linear_model import LogisticRegression\n",
    "\n",
    "# Create logistic regression object\n",
    "logistic_regression1 = LogisticRegression(random_state=0)\n",
    "\n",
    "# Train model and predict\n",
    "y_test_pred = logistic_regression1.fit(x_train_s, y_train_SMOTE).predict(x_test_s)"
   ]
  },
  {
   "cell_type": "markdown",
   "id": "f161bb2b",
   "metadata": {},
   "source": [
    "#### Evaluate Logistic Regression Model"
   ]
  },
  {
   "cell_type": "code",
   "execution_count": 49,
   "id": "0bd27966",
   "metadata": {},
   "outputs": [
    {
     "data": {
      "text/plain": [
       "0.64"
      ]
     },
     "execution_count": 49,
     "metadata": {},
     "output_type": "execute_result"
    }
   ],
   "source": [
    "# Calculate accuracy\n",
    "accuracy_score(y_test, y_test_pred)"
   ]
  },
  {
   "cell_type": "code",
   "execution_count": 50,
   "id": "8d7ebe0b",
   "metadata": {},
   "outputs": [
    {
     "data": {
      "image/png": "[encoded data removed]",
      "text/plain": [
       "<Figure size 432x288 with 1 Axes>"
      ]
     },
     "metadata": {
      "needs_background": "light"
     },
     "output_type": "display_data"
    }
   ],
   "source": [
    "# Create confusion matrix\n",
    "matrix_80 = confusion_matrix(y_test, y_test_pred)\n",
    "\n",
    "# Create pandas dataframe\n",
    "df80 = pd.DataFrame(matrix_80)\n",
    "\n",
    "# Create heatmap\n",
    "sns.heatmap(df80, annot=True, fmt=\"d\", cbar=None, cmap=\"Blues\")\n",
    "plt.title(\"Logistic Regression Model 80 Threshold Confusion Matrix\"), plt.tight_layout()\n",
    "plt.ylabel(\"True Popularity\"), plt.xlabel(\"Predicted Popularity\")\n",
    "plt.show()"
   ]
  },
  {
   "cell_type": "markdown",
   "id": "2c16961e",
   "metadata": {},
   "source": [
    "## Experimental Models & Analysis for Learning"
   ]
  },
  {
   "cell_type": "markdown",
   "id": "c39a8ccc",
   "metadata": {},
   "source": [
    "#### What would happen if the threshold for what is considered a \"popular\" song is changed from a popularity score of 80 to a popularity score of 70?"
   ]
  },
  {
   "cell_type": "code",
   "execution_count": 51,
   "id": "8fff75ee",
   "metadata": {},
   "outputs": [],
   "source": [
    "# Recode popularity metric as binary values\n",
    "# Code Popularity greater than or equal to 70 as 1 (High Popularity)\n",
    "spotify_df['high_popularity70'] = spotify_df['popularity'].where(spotify_df['popularity'] <= 70, 1)"
   ]
  },
  {
   "cell_type": "code",
   "execution_count": 52,
   "id": "e9215bea",
   "metadata": {},
   "outputs": [],
   "source": [
    "# Code popularity less than 80 as 0 (Low Popularity)\n",
    "spotify_df['high_popularity70'] = spotify_df['high_popularity70'].where(spotify_df['popularity'] > 70, 0)"
   ]
  },
  {
   "cell_type": "code",
   "execution_count": 53,
   "id": "eefc77af",
   "metadata": {},
   "outputs": [
    {
     "data": {
      "text/html": [
       "<div>\n",
       "<style scoped>\n",
       "    .dataframe tbody tr th:only-of-type {\n",
       "        vertical-align: middle;\n",
       "    }\n",
       "\n",
       "    .dataframe tbody tr th {\n",
       "        vertical-align: top;\n",
       "    }\n",
       "\n",
       "    .dataframe thead th {\n",
       "        text-align: right;\n",
       "    }\n",
       "</style>\n",
       "<table border=\"1\" class=\"dataframe\">\n",
       "  <thead>\n",
       "    <tr style=\"text-align: right;\">\n",
       "      <th></th>\n",
       "      <th>artist</th>\n",
       "      <th>song</th>\n",
       "      <th>duration_ms</th>\n",
       "      <th>explicit</th>\n",
       "      <th>year</th>\n",
       "      <th>popularity</th>\n",
       "      <th>danceability</th>\n",
       "      <th>energy</th>\n",
       "      <th>key</th>\n",
       "      <th>loudness</th>\n",
       "      <th>mode</th>\n",
       "      <th>speechiness</th>\n",
       "      <th>acousticness</th>\n",
       "      <th>instrumentalness</th>\n",
       "      <th>liveness</th>\n",
       "      <th>valence</th>\n",
       "      <th>tempo</th>\n",
       "      <th>genre</th>\n",
       "      <th>high_popularity</th>\n",
       "      <th>high_popularity70</th>\n",
       "    </tr>\n",
       "  </thead>\n",
       "  <tbody>\n",
       "    <tr>\n",
       "      <th>0</th>\n",
       "      <td>Britney Spears</td>\n",
       "      <td>Oops!...I Did It Again</td>\n",
       "      <td>211160</td>\n",
       "      <td>False</td>\n",
       "      <td>2000</td>\n",
       "      <td>77</td>\n",
       "      <td>0.751</td>\n",
       "      <td>0.834</td>\n",
       "      <td>1</td>\n",
       "      <td>-5.444</td>\n",
       "      <td>0</td>\n",
       "      <td>0.0437</td>\n",
       "      <td>0.3000</td>\n",
       "      <td>0.000018</td>\n",
       "      <td>0.3550</td>\n",
       "      <td>0.894</td>\n",
       "      <td>95.053</td>\n",
       "      <td>pop</td>\n",
       "      <td>0</td>\n",
       "      <td>1</td>\n",
       "    </tr>\n",
       "    <tr>\n",
       "      <th>1</th>\n",
       "      <td>blink-182</td>\n",
       "      <td>All The Small Things</td>\n",
       "      <td>167066</td>\n",
       "      <td>False</td>\n",
       "      <td>1999</td>\n",
       "      <td>79</td>\n",
       "      <td>0.434</td>\n",
       "      <td>0.897</td>\n",
       "      <td>0</td>\n",
       "      <td>-4.918</td>\n",
       "      <td>1</td>\n",
       "      <td>0.0488</td>\n",
       "      <td>0.0103</td>\n",
       "      <td>0.000000</td>\n",
       "      <td>0.6120</td>\n",
       "      <td>0.684</td>\n",
       "      <td>148.726</td>\n",
       "      <td>rock, pop</td>\n",
       "      <td>0</td>\n",
       "      <td>1</td>\n",
       "    </tr>\n",
       "    <tr>\n",
       "      <th>2</th>\n",
       "      <td>Faith Hill</td>\n",
       "      <td>Breathe</td>\n",
       "      <td>250546</td>\n",
       "      <td>False</td>\n",
       "      <td>1999</td>\n",
       "      <td>66</td>\n",
       "      <td>0.529</td>\n",
       "      <td>0.496</td>\n",
       "      <td>7</td>\n",
       "      <td>-9.007</td>\n",
       "      <td>1</td>\n",
       "      <td>0.0290</td>\n",
       "      <td>0.1730</td>\n",
       "      <td>0.000000</td>\n",
       "      <td>0.2510</td>\n",
       "      <td>0.278</td>\n",
       "      <td>136.859</td>\n",
       "      <td>pop, country</td>\n",
       "      <td>0</td>\n",
       "      <td>0</td>\n",
       "    </tr>\n",
       "    <tr>\n",
       "      <th>3</th>\n",
       "      <td>Bon Jovi</td>\n",
       "      <td>It's My Life</td>\n",
       "      <td>224493</td>\n",
       "      <td>False</td>\n",
       "      <td>2000</td>\n",
       "      <td>78</td>\n",
       "      <td>0.551</td>\n",
       "      <td>0.913</td>\n",
       "      <td>0</td>\n",
       "      <td>-4.063</td>\n",
       "      <td>0</td>\n",
       "      <td>0.0466</td>\n",
       "      <td>0.0263</td>\n",
       "      <td>0.000013</td>\n",
       "      <td>0.3470</td>\n",
       "      <td>0.544</td>\n",
       "      <td>119.992</td>\n",
       "      <td>rock, metal</td>\n",
       "      <td>0</td>\n",
       "      <td>1</td>\n",
       "    </tr>\n",
       "    <tr>\n",
       "      <th>4</th>\n",
       "      <td>*NSYNC</td>\n",
       "      <td>Bye Bye Bye</td>\n",
       "      <td>200560</td>\n",
       "      <td>False</td>\n",
       "      <td>2000</td>\n",
       "      <td>65</td>\n",
       "      <td>0.614</td>\n",
       "      <td>0.928</td>\n",
       "      <td>8</td>\n",
       "      <td>-4.806</td>\n",
       "      <td>0</td>\n",
       "      <td>0.0516</td>\n",
       "      <td>0.0408</td>\n",
       "      <td>0.001040</td>\n",
       "      <td>0.0845</td>\n",
       "      <td>0.879</td>\n",
       "      <td>172.656</td>\n",
       "      <td>pop</td>\n",
       "      <td>0</td>\n",
       "      <td>0</td>\n",
       "    </tr>\n",
       "    <tr>\n",
       "      <th>...</th>\n",
       "      <td>...</td>\n",
       "      <td>...</td>\n",
       "      <td>...</td>\n",
       "      <td>...</td>\n",
       "      <td>...</td>\n",
       "      <td>...</td>\n",
       "      <td>...</td>\n",
       "      <td>...</td>\n",
       "      <td>...</td>\n",
       "      <td>...</td>\n",
       "      <td>...</td>\n",
       "      <td>...</td>\n",
       "      <td>...</td>\n",
       "      <td>...</td>\n",
       "      <td>...</td>\n",
       "      <td>...</td>\n",
       "      <td>...</td>\n",
       "      <td>...</td>\n",
       "      <td>...</td>\n",
       "      <td>...</td>\n",
       "    </tr>\n",
       "    <tr>\n",
       "      <th>1995</th>\n",
       "      <td>Jonas Brothers</td>\n",
       "      <td>Sucker</td>\n",
       "      <td>181026</td>\n",
       "      <td>False</td>\n",
       "      <td>2019</td>\n",
       "      <td>79</td>\n",
       "      <td>0.842</td>\n",
       "      <td>0.734</td>\n",
       "      <td>1</td>\n",
       "      <td>-5.065</td>\n",
       "      <td>0</td>\n",
       "      <td>0.0588</td>\n",
       "      <td>0.0427</td>\n",
       "      <td>0.000000</td>\n",
       "      <td>0.1060</td>\n",
       "      <td>0.952</td>\n",
       "      <td>137.958</td>\n",
       "      <td>pop</td>\n",
       "      <td>0</td>\n",
       "      <td>1</td>\n",
       "    </tr>\n",
       "    <tr>\n",
       "      <th>1996</th>\n",
       "      <td>Taylor Swift</td>\n",
       "      <td>Cruel Summer</td>\n",
       "      <td>178426</td>\n",
       "      <td>False</td>\n",
       "      <td>2019</td>\n",
       "      <td>78</td>\n",
       "      <td>0.552</td>\n",
       "      <td>0.702</td>\n",
       "      <td>9</td>\n",
       "      <td>-5.707</td>\n",
       "      <td>1</td>\n",
       "      <td>0.1570</td>\n",
       "      <td>0.1170</td>\n",
       "      <td>0.000021</td>\n",
       "      <td>0.1050</td>\n",
       "      <td>0.564</td>\n",
       "      <td>169.994</td>\n",
       "      <td>pop</td>\n",
       "      <td>0</td>\n",
       "      <td>1</td>\n",
       "    </tr>\n",
       "    <tr>\n",
       "      <th>1997</th>\n",
       "      <td>Blanco Brown</td>\n",
       "      <td>The Git Up</td>\n",
       "      <td>200593</td>\n",
       "      <td>False</td>\n",
       "      <td>2019</td>\n",
       "      <td>69</td>\n",
       "      <td>0.847</td>\n",
       "      <td>0.678</td>\n",
       "      <td>9</td>\n",
       "      <td>-8.635</td>\n",
       "      <td>1</td>\n",
       "      <td>0.1090</td>\n",
       "      <td>0.0669</td>\n",
       "      <td>0.000000</td>\n",
       "      <td>0.2740</td>\n",
       "      <td>0.811</td>\n",
       "      <td>97.984</td>\n",
       "      <td>hip hop, country</td>\n",
       "      <td>0</td>\n",
       "      <td>0</td>\n",
       "    </tr>\n",
       "    <tr>\n",
       "      <th>1998</th>\n",
       "      <td>Sam Smith</td>\n",
       "      <td>Dancing With A Stranger (with Normani)</td>\n",
       "      <td>171029</td>\n",
       "      <td>False</td>\n",
       "      <td>2019</td>\n",
       "      <td>75</td>\n",
       "      <td>0.741</td>\n",
       "      <td>0.520</td>\n",
       "      <td>8</td>\n",
       "      <td>-7.513</td>\n",
       "      <td>1</td>\n",
       "      <td>0.0656</td>\n",
       "      <td>0.4500</td>\n",
       "      <td>0.000002</td>\n",
       "      <td>0.2220</td>\n",
       "      <td>0.347</td>\n",
       "      <td>102.998</td>\n",
       "      <td>pop</td>\n",
       "      <td>0</td>\n",
       "      <td>1</td>\n",
       "    </tr>\n",
       "    <tr>\n",
       "      <th>1999</th>\n",
       "      <td>Post Malone</td>\n",
       "      <td>Circles</td>\n",
       "      <td>215280</td>\n",
       "      <td>False</td>\n",
       "      <td>2019</td>\n",
       "      <td>85</td>\n",
       "      <td>0.695</td>\n",
       "      <td>0.762</td>\n",
       "      <td>0</td>\n",
       "      <td>-3.497</td>\n",
       "      <td>1</td>\n",
       "      <td>0.0395</td>\n",
       "      <td>0.1920</td>\n",
       "      <td>0.002440</td>\n",
       "      <td>0.0863</td>\n",
       "      <td>0.553</td>\n",
       "      <td>120.042</td>\n",
       "      <td>hip hop</td>\n",
       "      <td>1</td>\n",
       "      <td>1</td>\n",
       "    </tr>\n",
       "  </tbody>\n",
       "</table>\n",
       "<p>2000 rows × 20 columns</p>\n",
       "</div>"
      ],
      "text/plain": [
       "              artist                                    song  duration_ms  \\\n",
       "0     Britney Spears                  Oops!...I Did It Again       211160   \n",
       "1          blink-182                    All The Small Things       167066   \n",
       "2         Faith Hill                                 Breathe       250546   \n",
       "3           Bon Jovi                            It's My Life       224493   \n",
       "4             *NSYNC                             Bye Bye Bye       200560   \n",
       "...              ...                                     ...          ...   \n",
       "1995  Jonas Brothers                                  Sucker       181026   \n",
       "1996    Taylor Swift                            Cruel Summer       178426   \n",
       "1997    Blanco Brown                              The Git Up       200593   \n",
       "1998       Sam Smith  Dancing With A Stranger (with Normani)       171029   \n",
       "1999     Post Malone                                 Circles       215280   \n",
       "\n",
       "      explicit  year  popularity  danceability  energy  key  loudness  mode  \\\n",
       "0        False  2000          77         0.751   0.834    1    -5.444     0   \n",
       "1        False  1999          79         0.434   0.897    0    -4.918     1   \n",
       "2        False  1999          66         0.529   0.496    7    -9.007     1   \n",
       "3        False  2000          78         0.551   0.913    0    -4.063     0   \n",
       "4        False  2000          65         0.614   0.928    8    -4.806     0   \n",
       "...        ...   ...         ...           ...     ...  ...       ...   ...   \n",
       "1995     False  2019          79         0.842   0.734    1    -5.065     0   \n",
       "1996     False  2019          78         0.552   0.702    9    -5.707     1   \n",
       "1997     False  2019          69         0.847   0.678    9    -8.635     1   \n",
       "1998     False  2019          75         0.741   0.520    8    -7.513     1   \n",
       "1999     False  2019          85         0.695   0.762    0    -3.497     1   \n",
       "\n",
       "      speechiness  acousticness  instrumentalness  liveness  valence    tempo  \\\n",
       "0          0.0437        0.3000          0.000018    0.3550    0.894   95.053   \n",
       "1          0.0488        0.0103          0.000000    0.6120    0.684  148.726   \n",
       "2          0.0290        0.1730          0.000000    0.2510    0.278  136.859   \n",
       "3          0.0466        0.0263          0.000013    0.3470    0.544  119.992   \n",
       "4          0.0516        0.0408          0.001040    0.0845    0.879  172.656   \n",
       "...           ...           ...               ...       ...      ...      ...   \n",
       "1995       0.0588        0.0427          0.000000    0.1060    0.952  137.958   \n",
       "1996       0.1570        0.1170          0.000021    0.1050    0.564  169.994   \n",
       "1997       0.1090        0.0669          0.000000    0.2740    0.811   97.984   \n",
       "1998       0.0656        0.4500          0.000002    0.2220    0.347  102.998   \n",
       "1999       0.0395        0.1920          0.002440    0.0863    0.553  120.042   \n",
       "\n",
       "                 genre  high_popularity  high_popularity70  \n",
       "0                  pop                0                  1  \n",
       "1            rock, pop                0                  1  \n",
       "2         pop, country                0                  0  \n",
       "3          rock, metal                0                  1  \n",
       "4                  pop                0                  0  \n",
       "...                ...              ...                ...  \n",
       "1995               pop                0                  1  \n",
       "1996               pop                0                  1  \n",
       "1997  hip hop, country                0                  0  \n",
       "1998               pop                0                  1  \n",
       "1999           hip hop                1                  1  \n",
       "\n",
       "[2000 rows x 20 columns]"
      ]
     },
     "execution_count": 53,
     "metadata": {},
     "output_type": "execute_result"
    }
   ],
   "source": [
    "# Validate results\n",
    "spotify_df"
   ]
  },
  {
   "cell_type": "code",
   "execution_count": 54,
   "id": "f4bdcde7",
   "metadata": {},
   "outputs": [
    {
     "data": {
      "text/plain": [
       "0    1329\n",
       "1     671\n",
       "Name: high_popularity70, dtype: int64"
      ]
     },
     "execution_count": 54,
     "metadata": {},
     "output_type": "execute_result"
    }
   ],
   "source": [
    "# Check Popularity values\n",
    "spotify_df['high_popularity70'].value_counts()"
   ]
  },
  {
   "cell_type": "code",
   "execution_count": 55,
   "id": "9671a152",
   "metadata": {},
   "outputs": [],
   "source": [
    "# Split the data into a training and test set, where the high_popularity70 column is the target\n",
    "x_70 = spotify_df[['duration_ms', 'danceability', 'energy', 'key', 'loudness', 'mode', \n",
    "            'speechiness', 'acousticness', 'instrumentalness', 'liveness', 'valence','tempo']]\n",
    "y_70 = spotify_df['high_popularity70']"
   ]
  },
  {
   "cell_type": "code",
   "execution_count": 56,
   "id": "96f47d2e",
   "metadata": {},
   "outputs": [],
   "source": [
    "# Create training and test sets with 80-20 split\n",
    "x_train_70, x_test_70, y_train_70, y_test_70 = train_test_split(x_70, y_70, test_size = 0.2)"
   ]
  },
  {
   "cell_type": "code",
   "execution_count": 57,
   "id": "c243514a",
   "metadata": {},
   "outputs": [
    {
     "name": "stdout",
     "output_type": "stream",
     "text": [
      "Before oversampling 70 threshold:  Counter({0: 1071, 1: 529})\n"
     ]
    }
   ],
   "source": [
    "# Summarize class distribution\n",
    "print(\"Before oversampling 70 threshold: \",Counter(y_train_70))"
   ]
  },
  {
   "cell_type": "code",
   "execution_count": 58,
   "id": "3a829e09",
   "metadata": {},
   "outputs": [],
   "source": [
    "# fit and apply the transform\n",
    "x_train_70_SMOTE, y_train_70_SMOTE = SMOTE.fit_resample(x_train_70, y_train_70)"
   ]
  },
  {
   "cell_type": "code",
   "execution_count": 59,
   "id": "978ae682",
   "metadata": {},
   "outputs": [
    {
     "name": "stdout",
     "output_type": "stream",
     "text": [
      "After oversampling 70 threshold:  Counter({0: 1071, 1: 1071})\n"
     ]
    }
   ],
   "source": [
    "# Summarize class distribution to verify SMOTE success\n",
    "print(\"After oversampling 70 threshold: \",Counter(y_train_70_SMOTE))"
   ]
  },
  {
   "cell_type": "markdown",
   "id": "4796078b",
   "metadata": {},
   "source": [
    "#### Attempting KNN Model with Popularity Score Threshold of 70"
   ]
  },
  {
   "cell_type": "code",
   "execution_count": 60,
   "id": "d9872ea6",
   "metadata": {},
   "outputs": [],
   "source": [
    "# Create standardizer\n",
    "standardizer = StandardScaler()\n",
    "\n",
    "# Standardize features\n",
    "x_train_70_s = standardizer.fit_transform(x_train_70_SMOTE)\n",
    "x_test_70_s = standardizer.transform(x_test_70)\n",
    "\n",
    "# Create a KNN classifier\n",
    "knn_70 = KNeighborsClassifier(n_neighbors=4, n_jobs=-1)\n",
    "\n",
    "# Create a pipeline\n",
    "pipe_70 = Pipeline([(\"standardizer\", standardizer), (\"knn\", knn_70)])"
   ]
  },
  {
   "cell_type": "code",
   "execution_count": 61,
   "id": "d7883de0",
   "metadata": {},
   "outputs": [
    {
     "data": {
      "text/html": [
       "<style>#sk-container-id-3 {color: black;background-color: white;}#sk-container-id-3 pre{padding: 0;}#sk-container-id-3 div.sk-toggleable {background-color: white;}#sk-container-id-3 label.sk-toggleable__label {cursor: pointer;display: block;width: 100%;margin-bottom: 0;padding: 0.3em;box-sizing: border-box;text-align: center;}#sk-container-id-3 label.sk-toggleable__label-arrow:before {content: \"▸\";float: left;margin-right: 0.25em;color: #696969;}#sk-container-id-3 label.sk-toggleable__label-arrow:hover:before {color: black;}#sk-container-id-3 div.sk-estimator:hover label.sk-toggleable__label-arrow:before {color: black;}#sk-container-id-3 div.sk-toggleable__content {max-height: 0;max-width: 0;overflow: hidden;text-align: left;background-color: #f0f8ff;}#sk-container-id-3 div.sk-toggleable__content pre {margin: 0.2em;color: black;border-radius: 0.25em;background-color: #f0f8ff;}#sk-container-id-3 input.sk-toggleable__control:checked~div.sk-toggleable__content {max-height: 200px;max-width: 100%;overflow: auto;}#sk-container-id-3 input.sk-toggleable__control:checked~label.sk-toggleable__label-arrow:before {content: \"▾\";}#sk-container-id-3 div.sk-estimator input.sk-toggleable__control:checked~label.sk-toggleable__label {background-color: #d4ebff;}#sk-container-id-3 div.sk-label input.sk-toggleable__control:checked~label.sk-toggleable__label {background-color: #d4ebff;}#sk-container-id-3 input.sk-hidden--visually {border: 0;clip: rect(1px 1px 1px 1px);clip: rect(1px, 1px, 1px, 1px);height: 1px;margin: -1px;overflow: hidden;padding: 0;position: absolute;width: 1px;}#sk-container-id-3 div.sk-estimator {font-family: monospace;background-color: #f0f8ff;border: 1px dotted black;border-radius: 0.25em;box-sizing: border-box;margin-bottom: 0.5em;}#sk-container-id-3 div.sk-estimator:hover {background-color: #d4ebff;}#sk-container-id-3 div.sk-parallel-item::after {content: \"\";width: 100%;border-bottom: 1px solid gray;flex-grow: 1;}#sk-container-id-3 div.sk-label:hover label.sk-toggleable__label {background-color: #d4ebff;}#sk-container-id-3 div.sk-serial::before {content: \"\";position: absolute;border-left: 1px solid gray;box-sizing: border-box;top: 0;bottom: 0;left: 50%;z-index: 0;}#sk-container-id-3 div.sk-serial {display: flex;flex-direction: column;align-items: center;background-color: white;padding-right: 0.2em;padding-left: 0.2em;position: relative;}#sk-container-id-3 div.sk-item {position: relative;z-index: 1;}#sk-container-id-3 div.sk-parallel {display: flex;align-items: stretch;justify-content: center;background-color: white;position: relative;}#sk-container-id-3 div.sk-item::before, #sk-container-id-3 div.sk-parallel-item::before {content: \"\";position: absolute;border-left: 1px solid gray;box-sizing: border-box;top: 0;bottom: 0;left: 50%;z-index: -1;}#sk-container-id-3 div.sk-parallel-item {display: flex;flex-direction: column;z-index: 1;position: relative;background-color: white;}#sk-container-id-3 div.sk-parallel-item:first-child::after {align-self: flex-end;width: 50%;}#sk-container-id-3 div.sk-parallel-item:last-child::after {align-self: flex-start;width: 50%;}#sk-container-id-3 div.sk-parallel-item:only-child::after {width: 0;}#sk-container-id-3 div.sk-dashed-wrapped {border: 1px dashed gray;margin: 0 0.4em 0.5em 0.4em;box-sizing: border-box;padding-bottom: 0.4em;background-color: white;}#sk-container-id-3 div.sk-label label {font-family: monospace;font-weight: bold;display: inline-block;line-height: 1.2em;}#sk-container-id-3 div.sk-label-container {text-align: center;}#sk-container-id-3 div.sk-container {/* jupyter's `normalize.less` sets `[hidden] { display: none; }` but bootstrap.min.css set `[hidden] { display: none !important; }` so we also need the `!important` here to be able to override the default hidden behavior on the sphinx rendered scikit-learn.org. See: https://github.com/scikit-learn/scikit-learn/issues/21755 */display: inline-block !important;position: relative;}#sk-container-id-3 div.sk-text-repr-fallback {display: none;}</style><div id=\"sk-container-id-3\" class=\"sk-top-container\"><div class=\"sk-text-repr-fallback\"><pre>Pipeline(steps=[(&#x27;standardizer&#x27;, StandardScaler()),\n",
       "                (&#x27;knn&#x27;, KNeighborsClassifier(n_jobs=-1, n_neighbors=4))])</pre><b>In a Jupyter environment, please rerun this cell to show the HTML representation or trust the notebook. <br />On GitHub, the HTML representation is unable to render, please try loading this page with nbviewer.org.</b></div><div class=\"sk-container\" hidden><div class=\"sk-item sk-dashed-wrapped\"><div class=\"sk-label-container\"><div class=\"sk-label sk-toggleable\"><input class=\"sk-toggleable__control sk-hidden--visually\" id=\"sk-estimator-id-5\" type=\"checkbox\" ><label for=\"sk-estimator-id-5\" class=\"sk-toggleable__label sk-toggleable__label-arrow\">Pipeline</label><div class=\"sk-toggleable__content\"><pre>Pipeline(steps=[(&#x27;standardizer&#x27;, StandardScaler()),\n",
       "                (&#x27;knn&#x27;, KNeighborsClassifier(n_jobs=-1, n_neighbors=4))])</pre></div></div></div><div class=\"sk-serial\"><div class=\"sk-item\"><div class=\"sk-estimator sk-toggleable\"><input class=\"sk-toggleable__control sk-hidden--visually\" id=\"sk-estimator-id-6\" type=\"checkbox\" ><label for=\"sk-estimator-id-6\" class=\"sk-toggleable__label sk-toggleable__label-arrow\">StandardScaler</label><div class=\"sk-toggleable__content\"><pre>StandardScaler()</pre></div></div></div><div class=\"sk-item\"><div class=\"sk-estimator sk-toggleable\"><input class=\"sk-toggleable__control sk-hidden--visually\" id=\"sk-estimator-id-7\" type=\"checkbox\" ><label for=\"sk-estimator-id-7\" class=\"sk-toggleable__label sk-toggleable__label-arrow\">KNeighborsClassifier</label><div class=\"sk-toggleable__content\"><pre>KNeighborsClassifier(n_jobs=-1, n_neighbors=4)</pre></div></div></div></div></div></div></div>"
      ],
      "text/plain": [
       "Pipeline(steps=[('standardizer', StandardScaler()),\n",
       "                ('knn', KNeighborsClassifier(n_jobs=-1, n_neighbors=4))])"
      ]
     },
     "execution_count": 61,
     "metadata": {},
     "output_type": "execute_result"
    }
   ],
   "source": [
    "# Fit the pipeline\n",
    "pipe_70.fit(x_train_70_s, y_train_70_SMOTE)"
   ]
  },
  {
   "cell_type": "code",
   "execution_count": 62,
   "id": "023a24e3",
   "metadata": {},
   "outputs": [
    {
     "data": {
      "text/plain": [
       "0.6"
      ]
     },
     "execution_count": 62,
     "metadata": {},
     "output_type": "execute_result"
    }
   ],
   "source": [
    "# Build predictions\n",
    "pipe_pred_70 = pipe_70.predict(x_test_70_s)\n",
    "\n",
    "# Calculate accuracy\n",
    "accuracy_score(y_test_70, pipe_pred_70)"
   ]
  },
  {
   "cell_type": "code",
   "execution_count": 63,
   "id": "0a901cc2",
   "metadata": {},
   "outputs": [],
   "source": [
    "# Create a search space for the number of neighbors\n",
    "search_space = [{\"knn__n_neighbors\": [1, 2, 3, 4, 5, 6, 7, 8, 9, 10, 11, 12, 13, 14, 15, 16, 17,\n",
    "                                     18, 19, 20, 21, 22, 23, 24, 25]}]"
   ]
  },
  {
   "cell_type": "code",
   "execution_count": 64,
   "id": "5ae2d558",
   "metadata": {},
   "outputs": [],
   "source": [
    "# Create grid search\n",
    "classifier_70 = GridSearchCV(pipe_70, search_space, cv=5, verbose=0).fit(x_train_70_s, y_train_70_SMOTE)"
   ]
  },
  {
   "cell_type": "code",
   "execution_count": 65,
   "id": "8f2534ec",
   "metadata": {},
   "outputs": [
    {
     "data": {
      "text/plain": [
       "1"
      ]
     },
     "execution_count": 65,
     "metadata": {},
     "output_type": "execute_result"
    }
   ],
   "source": [
    "# Find the best value\n",
    "classifier_70.best_estimator_.get_params()[\"knn__n_neighbors\"]"
   ]
  },
  {
   "cell_type": "code",
   "execution_count": 66,
   "id": "5fc98d4f",
   "metadata": {},
   "outputs": [
    {
     "data": {
      "text/plain": [
       "0.61"
      ]
     },
     "execution_count": 66,
     "metadata": {},
     "output_type": "execute_result"
    }
   ],
   "source": [
    "# Build predictions\n",
    "classifier_pred_70 = classifier_70.predict(x_test_70_s)\n",
    "\n",
    "# Calculate accuracy\n",
    "accuracy_score(y_test_70, classifier_pred_70)"
   ]
  },
  {
   "cell_type": "code",
   "execution_count": 67,
   "id": "c6bb1f14",
   "metadata": {},
   "outputs": [
    {
     "data": {
      "text/plain": [
       "[Text(0, 0.5, '0'), Text(0, 1.5, '1')]"
      ]
     },
     "execution_count": 67,
     "metadata": {},
     "output_type": "execute_result"
    },
    {
     "data": {
      "image/png": "[encoded data removed]",
      "text/plain": [
       "<Figure size 432x288 with 1 Axes>"
      ]
     },
     "metadata": {
      "needs_background": "light"
     },
     "output_type": "display_data"
    }
   ],
   "source": [
    "# Create confusion matrix\n",
    "matrix_70 = confusion_matrix(y_test_70, classifier_pred_70)\n",
    "\n",
    "# Create pandas dataframe\n",
    "c70_df = pd.DataFrame(matrix_70)\n",
    "\n",
    "# Create heatmap\n",
    "ax= plt.subplot()\n",
    "sns.heatmap(c70_df, annot=True, fmt=\"d\", cbar=None, cmap=\"Blues\", ax=ax)\n",
    "ax.set_title(\"KNN Confusion Matrix 70 Threshold\")\n",
    "ax.set_ylabel(\"True Popularity\"), ax.set_xlabel(\"Predicted Popularity\")\n",
    "ax.xaxis.set_ticklabels(['0', '1']); ax.yaxis.set_ticklabels(['0', '1'])"
   ]
  },
  {
   "cell_type": "markdown",
   "id": "1b4225d2",
   "metadata": {},
   "source": [
    "#### Attempting Random Forest Model with popularity score threshold of 70"
   ]
  },
  {
   "cell_type": "code",
   "execution_count": 68,
   "id": "a314bc4c",
   "metadata": {},
   "outputs": [
    {
     "data": {
      "text/html": [
       "<style>#sk-container-id-4 {color: black;background-color: white;}#sk-container-id-4 pre{padding: 0;}#sk-container-id-4 div.sk-toggleable {background-color: white;}#sk-container-id-4 label.sk-toggleable__label {cursor: pointer;display: block;width: 100%;margin-bottom: 0;padding: 0.3em;box-sizing: border-box;text-align: center;}#sk-container-id-4 label.sk-toggleable__label-arrow:before {content: \"▸\";float: left;margin-right: 0.25em;color: #696969;}#sk-container-id-4 label.sk-toggleable__label-arrow:hover:before {color: black;}#sk-container-id-4 div.sk-estimator:hover label.sk-toggleable__label-arrow:before {color: black;}#sk-container-id-4 div.sk-toggleable__content {max-height: 0;max-width: 0;overflow: hidden;text-align: left;background-color: #f0f8ff;}#sk-container-id-4 div.sk-toggleable__content pre {margin: 0.2em;color: black;border-radius: 0.25em;background-color: #f0f8ff;}#sk-container-id-4 input.sk-toggleable__control:checked~div.sk-toggleable__content {max-height: 200px;max-width: 100%;overflow: auto;}#sk-container-id-4 input.sk-toggleable__control:checked~label.sk-toggleable__label-arrow:before {content: \"▾\";}#sk-container-id-4 div.sk-estimator input.sk-toggleable__control:checked~label.sk-toggleable__label {background-color: #d4ebff;}#sk-container-id-4 div.sk-label input.sk-toggleable__control:checked~label.sk-toggleable__label {background-color: #d4ebff;}#sk-container-id-4 input.sk-hidden--visually {border: 0;clip: rect(1px 1px 1px 1px);clip: rect(1px, 1px, 1px, 1px);height: 1px;margin: -1px;overflow: hidden;padding: 0;position: absolute;width: 1px;}#sk-container-id-4 div.sk-estimator {font-family: monospace;background-color: #f0f8ff;border: 1px dotted black;border-radius: 0.25em;box-sizing: border-box;margin-bottom: 0.5em;}#sk-container-id-4 div.sk-estimator:hover {background-color: #d4ebff;}#sk-container-id-4 div.sk-parallel-item::after {content: \"\";width: 100%;border-bottom: 1px solid gray;flex-grow: 1;}#sk-container-id-4 div.sk-label:hover label.sk-toggleable__label {background-color: #d4ebff;}#sk-container-id-4 div.sk-serial::before {content: \"\";position: absolute;border-left: 1px solid gray;box-sizing: border-box;top: 0;bottom: 0;left: 50%;z-index: 0;}#sk-container-id-4 div.sk-serial {display: flex;flex-direction: column;align-items: center;background-color: white;padding-right: 0.2em;padding-left: 0.2em;position: relative;}#sk-container-id-4 div.sk-item {position: relative;z-index: 1;}#sk-container-id-4 div.sk-parallel {display: flex;align-items: stretch;justify-content: center;background-color: white;position: relative;}#sk-container-id-4 div.sk-item::before, #sk-container-id-4 div.sk-parallel-item::before {content: \"\";position: absolute;border-left: 1px solid gray;box-sizing: border-box;top: 0;bottom: 0;left: 50%;z-index: -1;}#sk-container-id-4 div.sk-parallel-item {display: flex;flex-direction: column;z-index: 1;position: relative;background-color: white;}#sk-container-id-4 div.sk-parallel-item:first-child::after {align-self: flex-end;width: 50%;}#sk-container-id-4 div.sk-parallel-item:last-child::after {align-self: flex-start;width: 50%;}#sk-container-id-4 div.sk-parallel-item:only-child::after {width: 0;}#sk-container-id-4 div.sk-dashed-wrapped {border: 1px dashed gray;margin: 0 0.4em 0.5em 0.4em;box-sizing: border-box;padding-bottom: 0.4em;background-color: white;}#sk-container-id-4 div.sk-label label {font-family: monospace;font-weight: bold;display: inline-block;line-height: 1.2em;}#sk-container-id-4 div.sk-label-container {text-align: center;}#sk-container-id-4 div.sk-container {/* jupyter's `normalize.less` sets `[hidden] { display: none; }` but bootstrap.min.css set `[hidden] { display: none !important; }` so we also need the `!important` here to be able to override the default hidden behavior on the sphinx rendered scikit-learn.org. See: https://github.com/scikit-learn/scikit-learn/issues/21755 */display: inline-block !important;position: relative;}#sk-container-id-4 div.sk-text-repr-fallback {display: none;}</style><div id=\"sk-container-id-4\" class=\"sk-top-container\"><div class=\"sk-text-repr-fallback\"><pre>RandomForestClassifier(n_estimators=1000, random_state=42)</pre><b>In a Jupyter environment, please rerun this cell to show the HTML representation or trust the notebook. <br />On GitHub, the HTML representation is unable to render, please try loading this page with nbviewer.org.</b></div><div class=\"sk-container\" hidden><div class=\"sk-item\"><div class=\"sk-estimator sk-toggleable\"><input class=\"sk-toggleable__control sk-hidden--visually\" id=\"sk-estimator-id-8\" type=\"checkbox\" checked><label for=\"sk-estimator-id-8\" class=\"sk-toggleable__label sk-toggleable__label-arrow\">RandomForestClassifier</label><div class=\"sk-toggleable__content\"><pre>RandomForestClassifier(n_estimators=1000, random_state=42)</pre></div></div></div></div></div>"
      ],
      "text/plain": [
       "RandomForestClassifier(n_estimators=1000, random_state=42)"
      ]
     },
     "execution_count": 68,
     "metadata": {},
     "output_type": "execute_result"
    }
   ],
   "source": [
    "# Build Random Forest Model\n",
    "rf_70 = RandomForestClassifier(n_estimators=1000, random_state=42)\n",
    "\n",
    "# Train the model on training data\n",
    "rf_70.fit(x_train_70_SMOTE, y_train_70_SMOTE)"
   ]
  },
  {
   "cell_type": "code",
   "execution_count": 69,
   "id": "222386bd",
   "metadata": {},
   "outputs": [
    {
     "data": {
      "text/plain": [
       "0.6125"
      ]
     },
     "execution_count": 69,
     "metadata": {},
     "output_type": "execute_result"
    }
   ],
   "source": [
    "# Build predictions\n",
    "rf_pred_70 = rf_70.predict(x_test_70)\n",
    "\n",
    "# Calculate accuracy\n",
    "accuracy_score(y_test_70, rf_pred_70)"
   ]
  },
  {
   "cell_type": "code",
   "execution_count": 70,
   "id": "78523522",
   "metadata": {},
   "outputs": [
    {
     "data": {
      "text/plain": [
       "[Text(0, 0.5, '0'), Text(0, 1.5, '1')]"
      ]
     },
     "execution_count": 70,
     "metadata": {},
     "output_type": "execute_result"
    },
    {
     "data": {
      "image/png": "[encoded data removed]",
      "text/plain": [
       "<Figure size 432x288 with 1 Axes>"
      ]
     },
     "metadata": {
      "needs_background": "light"
     },
     "output_type": "display_data"
    }
   ],
   "source": [
    "# Create confusion matrix\n",
    "rf_matrix_70 = confusion_matrix(y_test_70, rf_pred_70)\n",
    "\n",
    "# Create pandas dataframe\n",
    "rf_c70_df = pd.DataFrame(rf_matrix_70)\n",
    "\n",
    "# Create heatmap\n",
    "ax= plt.subplot()\n",
    "sns.heatmap(rf_c70_df, annot=True, fmt=\"d\", cbar=None, cmap=\"Blues\", ax=ax)\n",
    "ax.set_title(\"Random Forest 70 Threshold Confusion Matrix\")\n",
    "ax.set_ylabel(\"True Popularity\"), ax.set_xlabel(\"Predicted Popularity\")\n",
    "ax.xaxis.set_ticklabels(['0', '1']); ax.yaxis.set_ticklabels(['0', '1'])"
   ]
  },
  {
   "cell_type": "code",
   "execution_count": 71,
   "id": "1c9f2e01",
   "metadata": {},
   "outputs": [
    {
     "name": "stdout",
     "output_type": "stream",
     "text": [
      "Precision: 44%\n",
      "Recall: 35%\n",
      "F1-score: 39%\n"
     ]
    }
   ],
   "source": [
    "# Calculate Precision\n",
    "p = \"{:.0%}\".format(precision_score(y_test_70, rf_pred_70))\n",
    "\n",
    "# Calculate Recall\n",
    "r = \"{:.0%}\".format(recall_score(y_test_70, rf_pred_70))\n",
    "\n",
    "# Calculate F1-score\n",
    "f1 = \"{:.0%}\".format(f1_score(y_test_70, rf_pred_70))\n",
    "\n",
    "# Print Evaluation Metrics\n",
    "print(\"Precision:\",p)\n",
    "print(\"Recall:\",r)\n",
    "print(\"F1-score:\",f1)"
   ]
  },
  {
   "cell_type": "markdown",
   "id": "b6be175b",
   "metadata": {},
   "source": [
    "#### Attempting Logistic Regression Model with Popularity Score Threshold of 70"
   ]
  },
  {
   "cell_type": "code",
   "execution_count": 72,
   "id": "37e312ae",
   "metadata": {},
   "outputs": [],
   "source": [
    "# Load library\n",
    "from sklearn.linear_model import LogisticRegression\n",
    "\n",
    "# Create logistic regression object\n",
    "logistic_regression = LogisticRegression(random_state=0)\n",
    "\n",
    "# Train model and predict\n",
    "y_test_pred_70 = logistic_regression.fit(x_train_70_s, y_train_70_SMOTE).predict(x_test_70_s)"
   ]
  },
  {
   "cell_type": "code",
   "execution_count": 73,
   "id": "ddeb9280",
   "metadata": {},
   "outputs": [
    {
     "data": {
      "text/plain": [
       "0.58"
      ]
     },
     "execution_count": 73,
     "metadata": {},
     "output_type": "execute_result"
    }
   ],
   "source": [
    "# Calculate accuracy\n",
    "accuracy_score(y_test_70, y_test_pred_70)"
   ]
  },
  {
   "cell_type": "code",
   "execution_count": 74,
   "id": "55bb2348",
   "metadata": {},
   "outputs": [
    {
     "data": {
      "image/png": "[encoded data removed]",
      "text/plain": [
       "<Figure size 432x288 with 1 Axes>"
      ]
     },
     "metadata": {
      "needs_background": "light"
     },
     "output_type": "display_data"
    }
   ],
   "source": [
    "# Create confusion matrix\n",
    "matrix_702 = confusion_matrix(y_test_70, y_test_pred_70)\n",
    "\n",
    "# Create pandas dataframe\n",
    "df702 = pd.DataFrame(matrix_702)\n",
    "\n",
    "# Create heatmap\n",
    "sns.heatmap(df702, annot=True, fmt=\"d\", cbar=None, cmap=\"Blues\")\n",
    "plt.title(\"Logistic Regression Model 70 Threshold Confusion Matrix\"), plt.tight_layout()\n",
    "plt.ylabel(\"True Class\"), plt.xlabel(\"Predicted Class\")\n",
    "plt.show()"
   ]
  },
  {
   "cell_type": "code",
   "execution_count": 75,
   "id": "b8f8d415",
   "metadata": {},
   "outputs": [
    {
     "name": "stdout",
     "output_type": "stream",
     "text": [
      "Precision: 42%\n",
      "Recall: 49%\n",
      "F1-score: 45%\n"
     ]
    }
   ],
   "source": [
    "# Calculate Precision\n",
    "# Precision Definition: Proportion of every observation predicted + that is actually +, measurement of noise in predictions\n",
    "p = \"{:.0%}\".format(precision_score(y_test_70, y_test_pred_70))\n",
    "\n",
    "# Calculate Recall\n",
    "# Recall Definition: Proportion of every + observation that is truly +, model's ability to ID obervation of + class\n",
    "r = \"{:.0%}\".format(recall_score(y_test_70, y_test_pred_70))\n",
    "\n",
    "# Calculate F1-score\n",
    "# F1 Definition: Measure of correctness achieved in + prediction, of obervations labeled +, how many actually +\n",
    "f1 = \"{:.0%}\".format(f1_score(y_test_70, y_test_pred_70))\n",
    "\n",
    "# Print Evaluation Metrics\n",
    "print(\"Precision:\",p)\n",
    "print(\"Recall:\",r)\n",
    "print(\"F1-score:\",f1)"
   ]
  },
  {
   "cell_type": "markdown",
   "id": "b98b968d",
   "metadata": {},
   "source": [
    "#### Would I be more successful approaching this as something other than a classification problem?"
   ]
  },
  {
   "cell_type": "code",
   "execution_count": 76,
   "id": "4fb660f3",
   "metadata": {},
   "outputs": [],
   "source": [
    "import pandas as pd\n",
    "import numpy as np\n",
    "import matplotlib.pyplot as plt\n",
    "import seaborn as sns"
   ]
  },
  {
   "cell_type": "code",
   "execution_count": 77,
   "id": "69e17663",
   "metadata": {},
   "outputs": [],
   "source": [
    "x_2 = spotify_df[['duration_ms', 'danceability', 'energy', 'key', 'loudness', 'mode', \n",
    "            'speechiness', 'acousticness', 'instrumentalness', 'liveness', 'valence','tempo']]\n",
    "y_2 = spotify_df['popularity']"
   ]
  },
  {
   "cell_type": "code",
   "execution_count": 78,
   "id": "9bb96386",
   "metadata": {},
   "outputs": [],
   "source": [
    "x_train_2, x_test_2, y_train_2, y_test_2 = train_test_split(x_2, y_2, test_size=0.2, random_state = 100) "
   ]
  },
  {
   "cell_type": "markdown",
   "id": "20abfed0",
   "metadata": {},
   "source": [
    "#### Attempting Multiple Linear Regression Model to Predict Popularity"
   ]
  },
  {
   "cell_type": "code",
   "execution_count": 79,
   "id": "53f93e17",
   "metadata": {},
   "outputs": [
    {
     "data": {
      "text/html": [
       "<style>#sk-container-id-5 {color: black;background-color: white;}#sk-container-id-5 pre{padding: 0;}#sk-container-id-5 div.sk-toggleable {background-color: white;}#sk-container-id-5 label.sk-toggleable__label {cursor: pointer;display: block;width: 100%;margin-bottom: 0;padding: 0.3em;box-sizing: border-box;text-align: center;}#sk-container-id-5 label.sk-toggleable__label-arrow:before {content: \"▸\";float: left;margin-right: 0.25em;color: #696969;}#sk-container-id-5 label.sk-toggleable__label-arrow:hover:before {color: black;}#sk-container-id-5 div.sk-estimator:hover label.sk-toggleable__label-arrow:before {color: black;}#sk-container-id-5 div.sk-toggleable__content {max-height: 0;max-width: 0;overflow: hidden;text-align: left;background-color: #f0f8ff;}#sk-container-id-5 div.sk-toggleable__content pre {margin: 0.2em;color: black;border-radius: 0.25em;background-color: #f0f8ff;}#sk-container-id-5 input.sk-toggleable__control:checked~div.sk-toggleable__content {max-height: 200px;max-width: 100%;overflow: auto;}#sk-container-id-5 input.sk-toggleable__control:checked~label.sk-toggleable__label-arrow:before {content: \"▾\";}#sk-container-id-5 div.sk-estimator input.sk-toggleable__control:checked~label.sk-toggleable__label {background-color: #d4ebff;}#sk-container-id-5 div.sk-label input.sk-toggleable__control:checked~label.sk-toggleable__label {background-color: #d4ebff;}#sk-container-id-5 input.sk-hidden--visually {border: 0;clip: rect(1px 1px 1px 1px);clip: rect(1px, 1px, 1px, 1px);height: 1px;margin: -1px;overflow: hidden;padding: 0;position: absolute;width: 1px;}#sk-container-id-5 div.sk-estimator {font-family: monospace;background-color: #f0f8ff;border: 1px dotted black;border-radius: 0.25em;box-sizing: border-box;margin-bottom: 0.5em;}#sk-container-id-5 div.sk-estimator:hover {background-color: #d4ebff;}#sk-container-id-5 div.sk-parallel-item::after {content: \"\";width: 100%;border-bottom: 1px solid gray;flex-grow: 1;}#sk-container-id-5 div.sk-label:hover label.sk-toggleable__label {background-color: #d4ebff;}#sk-container-id-5 div.sk-serial::before {content: \"\";position: absolute;border-left: 1px solid gray;box-sizing: border-box;top: 0;bottom: 0;left: 50%;z-index: 0;}#sk-container-id-5 div.sk-serial {display: flex;flex-direction: column;align-items: center;background-color: white;padding-right: 0.2em;padding-left: 0.2em;position: relative;}#sk-container-id-5 div.sk-item {position: relative;z-index: 1;}#sk-container-id-5 div.sk-parallel {display: flex;align-items: stretch;justify-content: center;background-color: white;position: relative;}#sk-container-id-5 div.sk-item::before, #sk-container-id-5 div.sk-parallel-item::before {content: \"\";position: absolute;border-left: 1px solid gray;box-sizing: border-box;top: 0;bottom: 0;left: 50%;z-index: -1;}#sk-container-id-5 div.sk-parallel-item {display: flex;flex-direction: column;z-index: 1;position: relative;background-color: white;}#sk-container-id-5 div.sk-parallel-item:first-child::after {align-self: flex-end;width: 50%;}#sk-container-id-5 div.sk-parallel-item:last-child::after {align-self: flex-start;width: 50%;}#sk-container-id-5 div.sk-parallel-item:only-child::after {width: 0;}#sk-container-id-5 div.sk-dashed-wrapped {border: 1px dashed gray;margin: 0 0.4em 0.5em 0.4em;box-sizing: border-box;padding-bottom: 0.4em;background-color: white;}#sk-container-id-5 div.sk-label label {font-family: monospace;font-weight: bold;display: inline-block;line-height: 1.2em;}#sk-container-id-5 div.sk-label-container {text-align: center;}#sk-container-id-5 div.sk-container {/* jupyter's `normalize.less` sets `[hidden] { display: none; }` but bootstrap.min.css set `[hidden] { display: none !important; }` so we also need the `!important` here to be able to override the default hidden behavior on the sphinx rendered scikit-learn.org. See: https://github.com/scikit-learn/scikit-learn/issues/21755 */display: inline-block !important;position: relative;}#sk-container-id-5 div.sk-text-repr-fallback {display: none;}</style><div id=\"sk-container-id-5\" class=\"sk-top-container\"><div class=\"sk-text-repr-fallback\"><pre>LinearRegression()</pre><b>In a Jupyter environment, please rerun this cell to show the HTML representation or trust the notebook. <br />On GitHub, the HTML representation is unable to render, please try loading this page with nbviewer.org.</b></div><div class=\"sk-container\" hidden><div class=\"sk-item\"><div class=\"sk-estimator sk-toggleable\"><input class=\"sk-toggleable__control sk-hidden--visually\" id=\"sk-estimator-id-9\" type=\"checkbox\" checked><label for=\"sk-estimator-id-9\" class=\"sk-toggleable__label sk-toggleable__label-arrow\">LinearRegression</label><div class=\"sk-toggleable__content\"><pre>LinearRegression()</pre></div></div></div></div></div>"
      ],
      "text/plain": [
       "LinearRegression()"
      ]
     },
     "execution_count": 79,
     "metadata": {},
     "output_type": "execute_result"
    }
   ],
   "source": [
    "from sklearn.linear_model import LinearRegression\n",
    "mlr = LinearRegression()\n",
    "mlr.fit(x_train_2, y_train_2)"
   ]
  },
  {
   "cell_type": "code",
   "execution_count": 80,
   "id": "4f8920cc",
   "metadata": {},
   "outputs": [],
   "source": [
    "y_pred_mlr = mlr.predict(x_test_2)"
   ]
  },
  {
   "cell_type": "code",
   "execution_count": 81,
   "id": "dc1a2fcf",
   "metadata": {},
   "outputs": [],
   "source": [
    "from sklearn import metrics"
   ]
  },
  {
   "cell_type": "code",
   "execution_count": 82,
   "id": "2cfd8cfd",
   "metadata": {},
   "outputs": [
    {
     "name": "stdout",
     "output_type": "stream",
     "text": [
      "R squared: -8179852.67\n",
      "Mean Absolute Error: 14.865487898148958\n",
      "Mean Square Error: 481.55820296675415\n",
      "Root Mean Square Error: 21.944434441715607\n"
     ]
    }
   ],
   "source": [
    "meanAbErr = metrics.mean_absolute_error(y_test_2, y_pred_mlr)\n",
    "meanSqErr = metrics.mean_squared_error(y_test_2, y_pred_mlr)\n",
    "rootMeanSqErr = np.sqrt(metrics.mean_squared_error(y_test_2, y_pred_mlr))\n",
    "print('R squared: {:.2f}'.format(mlr.score(x,y)*100))\n",
    "print('Mean Absolute Error:', meanAbErr)\n",
    "print('Mean Square Error:', meanSqErr)\n",
    "print('Root Mean Square Error:', rootMeanSqErr)"
   ]
  },
  {
   "cell_type": "markdown",
   "id": "e20f6dd6",
   "metadata": {},
   "source": [
    "#### Construct & Evaluate XGBoost Model"
   ]
  },
  {
   "cell_type": "code",
   "execution_count": 83,
   "id": "20978dd0",
   "metadata": {},
   "outputs": [],
   "source": [
    "#pip install xgboost"
   ]
  },
  {
   "cell_type": "code",
   "execution_count": 84,
   "id": "5246cbcd",
   "metadata": {},
   "outputs": [],
   "source": [
    "# Load library\n",
    "from xgboost import XGBClassifier"
   ]
  },
  {
   "cell_type": "code",
   "execution_count": 101,
   "id": "5760c146",
   "metadata": {},
   "outputs": [],
   "source": [
    "# Setup instance of model\n",
    "xgboost = XGBClassifier()"
   ]
  },
  {
   "cell_type": "code",
   "execution_count": 102,
   "id": "dfb854fe",
   "metadata": {},
   "outputs": [
    {
     "data": {
      "text/html": [
       "<style>#sk-container-id-9 {color: black;background-color: white;}#sk-container-id-9 pre{padding: 0;}#sk-container-id-9 div.sk-toggleable {background-color: white;}#sk-container-id-9 label.sk-toggleable__label {cursor: pointer;display: block;width: 100%;margin-bottom: 0;padding: 0.3em;box-sizing: border-box;text-align: center;}#sk-container-id-9 label.sk-toggleable__label-arrow:before {content: \"▸\";float: left;margin-right: 0.25em;color: #696969;}#sk-container-id-9 label.sk-toggleable__label-arrow:hover:before {color: black;}#sk-container-id-9 div.sk-estimator:hover label.sk-toggleable__label-arrow:before {color: black;}#sk-container-id-9 div.sk-toggleable__content {max-height: 0;max-width: 0;overflow: hidden;text-align: left;background-color: #f0f8ff;}#sk-container-id-9 div.sk-toggleable__content pre {margin: 0.2em;color: black;border-radius: 0.25em;background-color: #f0f8ff;}#sk-container-id-9 input.sk-toggleable__control:checked~div.sk-toggleable__content {max-height: 200px;max-width: 100%;overflow: auto;}#sk-container-id-9 input.sk-toggleable__control:checked~label.sk-toggleable__label-arrow:before {content: \"▾\";}#sk-container-id-9 div.sk-estimator input.sk-toggleable__control:checked~label.sk-toggleable__label {background-color: #d4ebff;}#sk-container-id-9 div.sk-label input.sk-toggleable__control:checked~label.sk-toggleable__label {background-color: #d4ebff;}#sk-container-id-9 input.sk-hidden--visually {border: 0;clip: rect(1px 1px 1px 1px);clip: rect(1px, 1px, 1px, 1px);height: 1px;margin: -1px;overflow: hidden;padding: 0;position: absolute;width: 1px;}#sk-container-id-9 div.sk-estimator {font-family: monospace;background-color: #f0f8ff;border: 1px dotted black;border-radius: 0.25em;box-sizing: border-box;margin-bottom: 0.5em;}#sk-container-id-9 div.sk-estimator:hover {background-color: #d4ebff;}#sk-container-id-9 div.sk-parallel-item::after {content: \"\";width: 100%;border-bottom: 1px solid gray;flex-grow: 1;}#sk-container-id-9 div.sk-label:hover label.sk-toggleable__label {background-color: #d4ebff;}#sk-container-id-9 div.sk-serial::before {content: \"\";position: absolute;border-left: 1px solid gray;box-sizing: border-box;top: 0;bottom: 0;left: 50%;z-index: 0;}#sk-container-id-9 div.sk-serial {display: flex;flex-direction: column;align-items: center;background-color: white;padding-right: 0.2em;padding-left: 0.2em;position: relative;}#sk-container-id-9 div.sk-item {position: relative;z-index: 1;}#sk-container-id-9 div.sk-parallel {display: flex;align-items: stretch;justify-content: center;background-color: white;position: relative;}#sk-container-id-9 div.sk-item::before, #sk-container-id-9 div.sk-parallel-item::before {content: \"\";position: absolute;border-left: 1px solid gray;box-sizing: border-box;top: 0;bottom: 0;left: 50%;z-index: -1;}#sk-container-id-9 div.sk-parallel-item {display: flex;flex-direction: column;z-index: 1;position: relative;background-color: white;}#sk-container-id-9 div.sk-parallel-item:first-child::after {align-self: flex-end;width: 50%;}#sk-container-id-9 div.sk-parallel-item:last-child::after {align-self: flex-start;width: 50%;}#sk-container-id-9 div.sk-parallel-item:only-child::after {width: 0;}#sk-container-id-9 div.sk-dashed-wrapped {border: 1px dashed gray;margin: 0 0.4em 0.5em 0.4em;box-sizing: border-box;padding-bottom: 0.4em;background-color: white;}#sk-container-id-9 div.sk-label label {font-family: monospace;font-weight: bold;display: inline-block;line-height: 1.2em;}#sk-container-id-9 div.sk-label-container {text-align: center;}#sk-container-id-9 div.sk-container {/* jupyter's `normalize.less` sets `[hidden] { display: none; }` but bootstrap.min.css set `[hidden] { display: none !important; }` so we also need the `!important` here to be able to override the default hidden behavior on the sphinx rendered scikit-learn.org. See: https://github.com/scikit-learn/scikit-learn/issues/21755 */display: inline-block !important;position: relative;}#sk-container-id-9 div.sk-text-repr-fallback {display: none;}</style><div id=\"sk-container-id-9\" class=\"sk-top-container\"><div class=\"sk-text-repr-fallback\"><pre>XGBClassifier(base_score=0.5, booster=&#x27;gbtree&#x27;, callbacks=None,\n",
       "              colsample_bylevel=1, colsample_bynode=1, colsample_bytree=1,\n",
       "              early_stopping_rounds=None, enable_categorical=False,\n",
       "              eval_metric=None, gamma=0, gpu_id=-1, grow_policy=&#x27;depthwise&#x27;,\n",
       "              importance_type=None, interaction_constraints=&#x27;&#x27;,\n",
       "              learning_rate=0.300000012, max_bin=256, max_cat_to_onehot=4,\n",
       "              max_delta_step=0, max_depth=6, max_leaves=0, min_child_weight=1,\n",
       "              missing=nan, monotone_constraints=&#x27;()&#x27;, n_estimators=100,\n",
       "              n_jobs=0, num_parallel_tree=1, predictor=&#x27;auto&#x27;, random_state=0,\n",
       "              reg_alpha=0, reg_lambda=1, ...)</pre><b>In a Jupyter environment, please rerun this cell to show the HTML representation or trust the notebook. <br />On GitHub, the HTML representation is unable to render, please try loading this page with nbviewer.org.</b></div><div class=\"sk-container\" hidden><div class=\"sk-item\"><div class=\"sk-estimator sk-toggleable\"><input class=\"sk-toggleable__control sk-hidden--visually\" id=\"sk-estimator-id-13\" type=\"checkbox\" checked><label for=\"sk-estimator-id-13\" class=\"sk-toggleable__label sk-toggleable__label-arrow\">XGBClassifier</label><div class=\"sk-toggleable__content\"><pre>XGBClassifier(base_score=0.5, booster=&#x27;gbtree&#x27;, callbacks=None,\n",
       "              colsample_bylevel=1, colsample_bynode=1, colsample_bytree=1,\n",
       "              early_stopping_rounds=None, enable_categorical=False,\n",
       "              eval_metric=None, gamma=0, gpu_id=-1, grow_policy=&#x27;depthwise&#x27;,\n",
       "              importance_type=None, interaction_constraints=&#x27;&#x27;,\n",
       "              learning_rate=0.300000012, max_bin=256, max_cat_to_onehot=4,\n",
       "              max_delta_step=0, max_depth=6, max_leaves=0, min_child_weight=1,\n",
       "              missing=nan, monotone_constraints=&#x27;()&#x27;, n_estimators=100,\n",
       "              n_jobs=0, num_parallel_tree=1, predictor=&#x27;auto&#x27;, random_state=0,\n",
       "              reg_alpha=0, reg_lambda=1, ...)</pre></div></div></div></div></div>"
      ],
      "text/plain": [
       "XGBClassifier(base_score=0.5, booster='gbtree', callbacks=None,\n",
       "              colsample_bylevel=1, colsample_bynode=1, colsample_bytree=1,\n",
       "              early_stopping_rounds=None, enable_categorical=False,\n",
       "              eval_metric=None, gamma=0, gpu_id=-1, grow_policy='depthwise',\n",
       "              importance_type=None, interaction_constraints='',\n",
       "              learning_rate=0.300000012, max_bin=256, max_cat_to_onehot=4,\n",
       "              max_delta_step=0, max_depth=6, max_leaves=0, min_child_weight=1,\n",
       "              missing=nan, monotone_constraints='()', n_estimators=100,\n",
       "              n_jobs=0, num_parallel_tree=1, predictor='auto', random_state=0,\n",
       "              reg_alpha=0, reg_lambda=1, ...)"
      ]
     },
     "execution_count": 102,
     "metadata": {},
     "output_type": "execute_result"
    }
   ],
   "source": [
    "# Train model\n",
    "xgboost.fit(x_train, y_train)"
   ]
  },
  {
   "cell_type": "code",
   "execution_count": 103,
   "id": "f7eceefa",
   "metadata": {},
   "outputs": [],
   "source": [
    "# Build predictions\n",
    "predictions_xg = xgboost.predict(x_test)"
   ]
  },
  {
   "cell_type": "code",
   "execution_count": 104,
   "id": "01d2f2f0",
   "metadata": {},
   "outputs": [
    {
     "data": {
      "text/plain": [
       "0.935"
      ]
     },
     "execution_count": 104,
     "metadata": {},
     "output_type": "execute_result"
    }
   ],
   "source": [
    "# Calculate accuracy score\n",
    "accuracy_score(y_test, predictions_xg)"
   ]
  },
  {
   "cell_type": "code",
   "execution_count": 107,
   "id": "2dbad448",
   "metadata": {},
   "outputs": [
    {
     "data": {
      "text/plain": [
       "[Text(0, 0.5, '0'), Text(0, 1.5, '1')]"
      ]
     },
     "execution_count": 107,
     "metadata": {},
     "output_type": "execute_result"
    },
    {
     "data": {
      "image/png": "[encoded data removed]",
      "text/plain": [
       "<Figure size 432x288 with 1 Axes>"
      ]
     },
     "metadata": {
      "needs_background": "light"
     },
     "output_type": "display_data"
    }
   ],
   "source": [
    "# Build confusion matrix\n",
    "matrix_rf = confusion_matrix(y_test, predictions_xg)\n",
    "\n",
    "# Create pandas df\n",
    "cm_df_rf = pd.DataFrame(matrix_rf)\n",
    "\n",
    "# Create heatmap\n",
    "ax= plt.subplot()\n",
    "sns.heatmap(cm_df_rf, annot=True, fmt=\"d\", cbar=None, cmap=\"Blues\", ax=ax)\n",
    "ax.set_title(\"XGBoost Confusion Matrix\")\n",
    "ax.set_ylabel(\"True Value\"), ax.set_xlabel(\"Predicted Value\")\n",
    "ax.xaxis.set_ticklabels(['0', '1']); ax.yaxis.set_ticklabels(['0', '1'])"
   ]
  },
  {
   "cell_type": "markdown",
   "id": "a3dd2b6a",
   "metadata": {},
   "source": [
    "#### Identify impactful features & potentially trim features"
   ]
  },
  {
   "cell_type": "code",
   "execution_count": 106,
   "id": "9371a164",
   "metadata": {},
   "outputs": [
    {
     "data": {
      "text/html": [
       "<div>\n",
       "<style scoped>\n",
       "    .dataframe tbody tr th:only-of-type {\n",
       "        vertical-align: middle;\n",
       "    }\n",
       "\n",
       "    .dataframe tbody tr th {\n",
       "        vertical-align: top;\n",
       "    }\n",
       "\n",
       "    .dataframe thead th {\n",
       "        text-align: right;\n",
       "    }\n",
       "</style>\n",
       "<table border=\"1\" class=\"dataframe\">\n",
       "  <thead>\n",
       "    <tr style=\"text-align: right;\">\n",
       "      <th></th>\n",
       "      <th>duration_ms</th>\n",
       "      <th>danceability</th>\n",
       "      <th>energy</th>\n",
       "      <th>key</th>\n",
       "      <th>loudness</th>\n",
       "      <th>mode</th>\n",
       "      <th>speechiness</th>\n",
       "      <th>acousticness</th>\n",
       "      <th>instrumentalness</th>\n",
       "      <th>liveness</th>\n",
       "      <th>valence</th>\n",
       "      <th>tempo</th>\n",
       "    </tr>\n",
       "  </thead>\n",
       "  <tbody>\n",
       "    <tr>\n",
       "      <th>0</th>\n",
       "      <td>0.088829</td>\n",
       "      <td>0.081414</td>\n",
       "      <td>0.100054</td>\n",
       "      <td>0.074317</td>\n",
       "      <td>0.077709</td>\n",
       "      <td>0.091585</td>\n",
       "      <td>0.090486</td>\n",
       "      <td>0.092696</td>\n",
       "      <td>0.091721</td>\n",
       "      <td>0.067829</td>\n",
       "      <td>0.078773</td>\n",
       "      <td>0.064587</td>\n",
       "    </tr>\n",
       "  </tbody>\n",
       "</table>\n",
       "</div>"
      ],
      "text/plain": [
       "   duration_ms  danceability    energy       key  loudness      mode  \\\n",
       "0     0.088829      0.081414  0.100054  0.074317  0.077709  0.091585   \n",
       "\n",
       "   speechiness  acousticness  instrumentalness  liveness   valence     tempo  \n",
       "0     0.090486      0.092696          0.091721  0.067829  0.078773  0.064587  "
      ]
     },
     "execution_count": 106,
     "metadata": {},
     "output_type": "execute_result"
    }
   ],
   "source": [
    "# Identify impactful features\n",
    "pd.DataFrame(xgboost.feature_importances_.reshape(1,-1), columns=x_train.columns)"
   ]
  },
  {
   "cell_type": "markdown",
   "id": "190f4cb6",
   "metadata": {},
   "source": [
    "The features all seem fairly close in value. Therefore, I do not believe it would be worthwhile to trim out features at this point."
   ]
  }
 ],
 "metadata": {
  "kernelspec": {
   "display_name": "Python 3 (ipykernel)",
   "language": "python",
   "name": "python3"
  },
  "language_info": {
   "codemirror_mode": {
    "name": "ipython",
    "version": 3
   },
   "file_extension": ".py",
   "mimetype": "text/x-python",
   "name": "python",
   "nbconvert_exporter": "python",
   "pygments_lexer": "ipython3",
   "version": "3.9.7"
  }
 },
 "nbformat": 4,
 "nbformat_minor": 5
}
